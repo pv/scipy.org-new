{
 "metadata": {},
 "nbformat": 3,
 "nbformat_minor": 0,
 "worksheets": [
  {
   "cells": [
    {
     "cell_type": "markdown",
     "metadata": {},
     "source": [
      "dbase\n",
      "======================================================================\n",
      "\n",
      "Dbase\n",
      "-----\n",
      "\n",
      "The [dbase.py](![](files/attachments/dbase/dbase.0.7.py) class, can be used to)\n",
      "read/write/summarize/plot time-series data.\n",
      "\n",
      "To summarize the functionality:\n",
      "\n",
      "`1.\u00a0data\u00a0and\u00a0variable\u00a0names\u00a0stored\u00a0in\u00a0a\u00a0dictionary\u00a0-\u00a0accessible\u00a0using\u00a0variable\u00a0names`\\\n",
      "`1.\u00a0load/save\u00a0from/to\u00a0csv/pickle\u00a0format,\u00a0including\u00a0date\u00a0information\u00a0(shelve\u00a0format\u00a0to\u00a0be\u00a0added)`\\\n",
      "`1.\u00a0plotting\u00a0and\u00a0descriptive\u00a0statistics,\u00a0with\u00a0dates\u00a0if\u00a0provided`\\\n",
      "`1.\u00a0adding/deleting\u00a0variables,\u00a0including\u00a0trends/(seasonal)dummies`\\\n",
      "`1.\u00a0selecting\u00a0observations\u00a0based\u00a0on\u00a0dates\u00a0or\u00a0other\u00a0variable\u00a0values\u00a0(e.g.,\u00a0>\u00a01/1/2003)`\\\n",
      "`1.\u00a0copying\u00a0instance\u00a0data`\n",
      "`Attached\u00a0also\u00a0the\u00a0`[`dbase_pydoc.txt`](![](files/attachments/dbase/dbase_pydoc.0.2.txt)`\u00a0information\u00a0for\u00a0the\u00a0class.`)\n",
      "\n",
      "Example Usage\n",
      "-------------\n",
      "\n",
      "To see the class in action download the file and run it (python\n",
      "dbase.py). This will create an example data file\n",
      "(./dbase\\_test\\_files/data.csv) that will be processed by the class.\n",
      "\n",
      "To import the module:"
     ]
    },
    {
     "cell_type": "code",
     "collapsed": false,
     "input": [
      "#!python\n",
      "import dbase"
     ],
     "language": "python",
     "metadata": {},
     "outputs": []
    },
    {
     "cell_type": "markdown",
     "metadata": {},
     "source": [
      "After running the class you can load the example data using"
     ]
    },
    {
     "cell_type": "code",
     "collapsed": false,
     "input": [
      "#!python\n",
      "data = dbase.dbase(\"./dbase_test_files/data.csv\", date = 0)"
     ],
     "language": "python",
     "metadata": {},
     "outputs": []
    },
    {
     "cell_type": "markdown",
     "metadata": {},
     "source": [
      "In the above command '0' is the index of the column containing dates.\n",
      "\n",
      "You can plot series 'b' and 'c' in the file using"
     ]
    },
    {
     "cell_type": "code",
     "collapsed": false,
     "input": [
      "#!python\n",
      "data.dataplot('b','c')"
     ],
     "language": "python",
     "metadata": {},
     "outputs": []
    },
    {
     "cell_type": "markdown",
     "metadata": {},
     "source": [
      "![](files/attachments/dbase/ex_plot.0.1.png)\n",
      "\n",
      "You get descriptive statistics for series 'a','b', and 'c' by using"
     ]
    },
    {
     "cell_type": "code",
     "collapsed": false,
     "input": [
      "#!python\n",
      "data.info('a','b','c')"
     ],
     "language": "python",
     "metadata": {},
     "outputs": []
    }
   ],
   "metadata": {}
  }
 ]
}
