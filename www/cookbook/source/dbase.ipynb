{
 "metadata": {},
 "nbformat": 3,
 "nbformat_minor": 0,
 "worksheets": [
  {
   "cells": [
    {
     "cell_type": "markdown",
     "metadata": {},
     "source": [
      "dbase\n",
      "======================================================================\n",
      "\n",
      "Dbase\n",
      "-----\n",
      "\n",
      "The [dbase.py](files/attachments/dbase/dbase.0.7.py) class, can be used to\n",
      "read/write/summarize/plot time-series data.\n",
      "\n",
      "To summarize the functionality:\n",
      "\n",
      "`1. data and variable names stored in a dictionary - accessible using variable names`\\\n",
      "`1. load/save from/to csv/pickle format, including date information (shelve format to be added)`\\\n",
      "`1. plotting and descriptive statistics, with dates if provided`\\\n",
      "`1. adding/deleting variables, including trends/(seasonal)dummies`\\\n",
      "`1. selecting observations based on dates or other variable values (e.g., > 1/1/2003)`\\\n",
      "`1. copying instance data`\n",
      "`Attached also the `[dbase_pydoc.txt](files/attachments/dbase/dbase_pydoc.0.2.txt)` information for the class.`)\n",
      "\n",
      "Example Usage\n",
      "-------------\n",
      "\n",
      "To see the class in action download the file and run it (python\n",
      "dbase.py). This will create an example data file\n",
      "(./dbase\\_test\\_files/data.csv) that will be processed by the class.\n",
      "\n",
      "To import the module:"
     ]
    },
    {
     "cell_type": "code",
     "collapsed": false,
     "input": [
      "#!python\n",
      "import dbase"
     ],
     "language": "python",
     "metadata": {},
     "outputs": []
    },
    {
     "cell_type": "markdown",
     "metadata": {},
     "source": [
      "After running the class you can load the example data using"
     ]
    },
    {
     "cell_type": "code",
     "collapsed": false,
     "input": [
      "#!python\n",
      "data = dbase.dbase(\"./dbase_test_files/data.csv\", date = 0)"
     ],
     "language": "python",
     "metadata": {},
     "outputs": []
    },
    {
     "cell_type": "markdown",
     "metadata": {},
     "source": [
      "In the above command '0' is the index of the column containing dates.\n",
      "\n",
      "You can plot series 'b' and 'c' in the file using"
     ]
    },
    {
     "cell_type": "code",
     "collapsed": false,
     "input": [
      "#!python\n",
      "data.dataplot('b','c')"
     ],
     "language": "python",
     "metadata": {},
     "outputs": []
    },
    {
     "cell_type": "markdown",
     "metadata": {},
     "source": [
      "![](files/attachments/dbase/ex_plot.0.1.png)\n",
      "\n",
      "You get descriptive statistics for series 'a','b', and 'c' by using"
     ]
    },
    {
     "cell_type": "code",
     "collapsed": false,
     "input": [
      "#!python\n",
      "data.info('a','b','c')"
     ],
     "language": "python",
     "metadata": {},
     "outputs": []
    }
   ],
   "metadata": {}
  }
 ]
}
