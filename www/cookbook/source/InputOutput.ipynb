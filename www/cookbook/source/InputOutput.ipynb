{
 "metadata": {},
 "nbformat": 3,
 "nbformat_minor": 0,
 "worksheets": [
  {
   "cells": [
    {
     "cell_type": "markdown",
     "metadata": {},
     "source": [
      "Input and output\n",
      "======================================================================\n",
      "\n",
      "Introduction\n",
      "------------\n",
      "\n",
      "This page gives examples how to read or write a !NumPy array to or from\n",
      "a file, be it ascii or binary. The various methods demonstrated all have\n",
      "copious and sometimes sophisticated options, call help to get details.\n",
      "\n",
      "We will consider a trivial example where we create an array of zeros\n",
      "called \\`data\\`, write it to a file \\`myfile.txt\\` (myfile.dat for the\n",
      "binary case), and read it into \\`read\\_data\\`.\n",
      "\n",
      "This documentation could be improved by discussing more sophisticated\n",
      "cases (e.g. multiple arrays), and discussing the costs/benefits of the\n",
      "various approaches presented.\n",
      "\n",
      "Text files\n",
      "----------\n",
      "\n",
      "### SciPy\n",
      "\n",
      "Writing files can be accomplished using \\`savetxt\\`. By far the easiest\n",
      "way to read text data is via genfromtxt, (or derivative convenience\n",
      "functions recfromtxt and recfromcsv)."
     ]
    },
    {
     "cell_type": "code",
     "collapsed": false,
     "input": [
      ">>> from numpy import *\n",
      ">>> data = zeros((3,3))\n",
      ">>>#Write data:\n",
      ">>> savetxt(\"myfile.txt\", data)\n",
      ">>>#Read:\n",
      ">>> data = genfromtxt(\"myfile.txt\") }}}\n",
      "\n",
      "== Matplotlib (pylab) ==\n",
      "\n",
      "Matplotlib  provides an easy solution which seems to load data faster than read_array:\n",
      "\n",
      "{{{#!python numbers=disable\n",
      ">>> from numpy import *\n",
      ">>> from pylab import load           # warning, the load() function of numpy will be shadowed\n",
      ">>> from pylab import save\n",
      ">>> data = zeros((3,3))\n",
      ">>> save('myfile.txt', data)\n",
      ">>> read_data = load(\"myfile.txt\")"
     ],
     "language": "python",
     "metadata": {},
     "outputs": []
    },
    {
     "cell_type": "markdown",
     "metadata": {},
     "source": [
      "### numPy"
     ]
    },
    {
     "cell_type": "code",
     "collapsed": false,
     "input": [
      ">>> savetxt('myfile.txt', data, fmt=\"%12.6G\")    # save to file"
     ],
     "language": "python",
     "metadata": {},
     "outputs": []
    },
    {
     "cell_type": "code",
     "collapsed": false,
     "input": [
      ">>> from numpy import *\n",
      ">>> data = genfromtxt('table.dat', unpack=True)"
     ],
     "language": "python",
     "metadata": {},
     "outputs": []
    },
    {
     "cell_type": "markdown",
     "metadata": {},
     "source": [
      "### csv files\n",
      "\n",
      "Note that csv stands for \"comma separated value\". This means that the\n",
      "separator (also called a delimiter), i.e. the character which is used to\n",
      "separate individual values in a file, is a comma. In the examples above,\n",
      "the default delimiter is a space, but all of the above methods have an\n",
      "option (see their respective help for details), which can be set to a\n",
      "comma in order to read or write a csv file instead.\n",
      "\n",
      "### A more sophisticated example\n",
      "\n",
      "Or, assuming you have imported numpy as N, you may want to read\n",
      "arbitrary column types. You can also return a recarray, which let's you\n",
      "assign 'column headings' to your array."
     ]
    },
    {
     "cell_type": "code",
     "collapsed": false,
     "input": [
      "def read_array(filename, dtype, separator=','):\n",
      "    \"\"\" Read a file with an arbitrary number of columns.\n",
      "        The type of data in each column is arbitrary\n",
      "        It will be cast to the given dtype at runtime\n",
      "    \"\"\"\n",
      "    cast = N.cast\n",
      "    data = [[] for dummy in xrange(len(dtype))]\n",
      "    for line in open(filename, 'r'):\n",
      "        fields = line.strip().split(separator)\n",
      "        for i, number in enumerate(fields):\n",
      "            data[i].append(number)\n",
      "    for i in xrange(len(dtype)):\n",
      "        data[i] = cast[dtype[i]](data[i])\n",
      "    return N.rec.array(data, dtype=dtype)"
     ],
     "language": "python",
     "metadata": {},
     "outputs": []
    },
    {
     "cell_type": "markdown",
     "metadata": {},
     "source": [
      "This can then be called with the corresponding dtype:"
     ]
    },
    {
     "cell_type": "code",
     "collapsed": false,
     "input": [
      "mydescr = N.dtype([('column1', 'int32'), ('column2Name', 'uint32'), ('col3', 'uint64'), ('c4', 'float32')])\n",
      "myrecarray = read_array('file.csv', mydescr)"
     ],
     "language": "python",
     "metadata": {},
     "outputs": []
    },
    {
     "cell_type": "markdown",
     "metadata": {},
     "source": [
      "Binary Files\n",
      "------------\n",
      "\n",
      "The advantage of binary files is the huge reduction in file size. The\n",
      "price paid is losing human readability, and in some formats, losing\n",
      "portability.\n",
      "\n",
      "Let us consider the array in the previous example.\n",
      "\n",
      "### File format with metadata\n",
      "\n",
      "The simplest possibility is to use 's own binary file format. See , and\n",
      "."
     ]
    },
    {
     "cell_type": "code",
     "collapsed": false,
     "input": [
      ">>> numpy.save('test.npy', data)\n",
      ">>> data2 = numpy.load('test.npy')"
     ],
     "language": "python",
     "metadata": {},
     "outputs": []
    },
    {
     "cell_type": "markdown",
     "metadata": {},
     "source": [
      "You can save several arrays in a single file using . When loading an\n",
      "file you get an object of type . You can obtain a list of arrays and\n",
      "load individual arrays like this:"
     ]
    },
    {
     "cell_type": "code",
     "collapsed": false,
     "input": [
      ">>> numpy.savez('foo.npz', a=a,b=b)\n",
      ">>> foo = numpy.load('foo.npz')\n",
      ">>> foo.files\n",
      "['a', 'b']\n",
      ">>> a2 = foo['a']\n",
      ">>> b2 = foo['b']"
     ],
     "language": "python",
     "metadata": {},
     "outputs": []
    },
    {
     "cell_type": "markdown",
     "metadata": {},
     "source": [
      "On older systems, the standard was to use python's pickle module to\n",
      "pickle the arrays.\n",
      "\n",
      "### Raw binary\n",
      "\n",
      "These file formats simply write out the internal representation of the\n",
      "arrays. This is platform-dependent and includes no information about\n",
      "array shape or datatype, but is quick and easy.\n",
      "\n",
      "SciPy provides fwrite() from scipy.io.numpyio. You have to set the size\n",
      "of your data, and optionally, its type (integer, short, float, etc; see\n",
      "[1](http://docs.neuroinf.de/api/scipy/scipy.io.numpyio-module.html)).\n",
      "\n",
      "For reading binary files, scipy.io.numpyio provides fread(). You have to\n",
      "know the datatype of your array, its size and its shape."
     ]
    },
    {
     "cell_type": "code",
     "collapsed": false,
     "input": [
      ">>> from scipy.io.numpyio import fwrite, fread\n",
      ">>> data = zeros((3,3))\n",
      ">>>#write:  fd = open('myfile.dat', 'wb')\n",
      ">>> fwrite(fd, data.size, data)\n",
      ">>> fd.close()\n",
      ">>>#read:\n",
      ">>> fd = open('myfile.dat', 'rb')\n",
      ">>> datatype = 'i'\n",
      ">>> size = 9\n",
      ">>> shape = (3,3)\n",
      ">>> read_data = fread(fd, size, datatype)\n",
      ">>> read_data = data.reshape(shape)"
     ],
     "language": "python",
     "metadata": {},
     "outputs": []
    },
    {
     "cell_type": "markdown",
     "metadata": {},
     "source": [
      "Or, you can simply use and . Following the previous example:"
     ]
    },
    {
     "cell_type": "code",
     "collapsed": false,
     "input": [
      ">>> data.tofile('myfile.dat')\n",
      ">>> fd = open('myfile.dat', 'rb')\n",
      ">>> read_data = numpy.fromfile(file=fd, dtype=numpy.uint8).reshape(shape)"
     ],
     "language": "python",
     "metadata": {},
     "outputs": []
    },
    {
     "cell_type": "code",
     "collapsed": false,
     "input": [
      "numpy data type. The option {{{fromfile(..., count=<number>)}}} specifies the number of data entries of that type you want to read in (the default -1 means read in the whole file, which is what you usually want). However, the method is not recommended for data storage and transfer between different platforms, since no byteorder and datatype information is stored (see also the docstrings).\n",
      "If you want that, use {{{numpy}}}'s own binary file format. See {{{numpy.save}}}, {{{numpy.savez}}} and {{{numpy.load}}}.\n",
      "{{{#! python numbers=disable\n",
      ">>> numpy.save('test.npy', data)\n",
      ">>> data2 = numpy.load('test.npy')"
     ],
     "language": "python",
     "metadata": {},
     "outputs": []
    },
    {
     "cell_type": "markdown",
     "metadata": {},
     "source": [
      "Another, but deprecated, way to fully control endianness (byteorder),\n",
      "storage order (row-major, column-major) for rank \\> 1 arrays and\n",
      "datatypes that are written and read back is . Writing:"
     ]
    },
    {
     "cell_type": "code",
     "collapsed": false,
     "input": [
      ">>> from scipy.io import npfile\n",
      ">>> shape = (3,3)\n",
      ">>> data = numpy.random.random(shape)\n",
      ">>> npf = npfile('test.dat', order='F', endian='<', permission='wb') \n",
      ">>> npf.write_array(data)\n",
      ">>> npf.close()"
     ],
     "language": "python",
     "metadata": {},
     "outputs": []
    },
    {
     "cell_type": "markdown",
     "metadata": {},
     "source": [
      "And reading back:"
     ]
    },
    {
     "cell_type": "code",
     "collapsed": false,
     "input": [
      ">>> npf = npfile('test.dat', order='F', endian='<', permission='rb') \n",
      ">>> data2 = npf.read_array(float, shape=shape)\n",
      ">>> npf.close()"
     ],
     "language": "python",
     "metadata": {},
     "outputs": []
    },
    {
     "cell_type": "markdown",
     "metadata": {},
     "source": [
      "### Write a Fortran or C array to a binary file with metadata\n",
      "\n",
      "[libnpy](http://www.maths.unsw.edu.au/~mclean/libnpy-0.5.tgz) is a small\n",
      "library that provides simple routines for saving a C or Fortran array to\n",
      "a data file using NumPy's own binary format. For a description of this\n",
      "format, do"
     ]
    },
    {
     "cell_type": "code",
     "collapsed": false,
     "input": [
      ">>> from numpy.lib import format\n",
      ">>> help(format)"
     ],
     "language": "python",
     "metadata": {},
     "outputs": []
    },
    {
     "cell_type": "markdown",
     "metadata": {},
     "source": [
      "Here is a minimal C example \\`cex.c\\`:"
     ]
    },
    {
     "cell_type": "code",
     "collapsed": false,
     "input": [
      "#include\"npy.h\"\n",
      "int main(){\n",
      "    double a[2][4] = { { 1, 2, 3, 4 },\n",
      "                       { 5, 6, 7, 8 } };\n",
      "    int shape[2] = { 2, 4 }, fortran_order = 0;\n",
      "\n",
      "    npy_save_double(\"ca.npy\", fortran_order, 2, shape, &a[0][0]);\n",
      "    return 0;\n",
      "}"
     ],
     "language": "python",
     "metadata": {},
     "outputs": []
    },
    {
     "cell_type": "markdown",
     "metadata": {},
     "source": [
      "The program creates a file \\`ca.npy\\` that you can load into python in\n",
      "the usual way."
     ]
    },
    {
     "cell_type": "code",
     "collapsed": false,
     "input": [
      ">>> ca = np.load('ca.npy')\n",
      ">>> print ca\n",
      "[[ 1.  2.  3.  4.]\n",
      " [ 5.  6.  7.  8.]]"
     ],
     "language": "python",
     "metadata": {},
     "outputs": []
    },
    {
     "cell_type": "markdown",
     "metadata": {},
     "source": [
      "The corresponding Fortran program, \\`fex.f95\\`, looks like"
     ]
    },
    {
     "cell_type": "code",
     "collapsed": false,
     "input": [
      "program fex\n",
      "    use fnpy\n",
      "    use iso_c_binding\n",
      "    implicit none\n",
      "\n",
      "    integer  :: i\n",
      "    real(C_DOUBLE) :: a(2,4) = reshape([(i, i=1,8)], [2,4])\n",
      "\n",
      "    call save_double(\"fa.npy\", shape(a), a)\n",
      "end program fex"
     ],
     "language": "python",
     "metadata": {},
     "outputs": []
    },
    {
     "cell_type": "markdown",
     "metadata": {},
     "source": [
      "but the entries of the NumPy array now follow the Fortran (column-major)\n",
      "ordering."
     ]
    },
    {
     "cell_type": "code",
     "collapsed": false,
     "input": [
      ">>> fa = np.load('fa.npy')\n",
      ">>> print fa\n",
      "[[ 1.  3.  5.  7.]\n",
      " [ 2.  4.  6.  8.]]"
     ],
     "language": "python",
     "metadata": {},
     "outputs": []
    },
    {
     "cell_type": "markdown",
     "metadata": {},
     "source": [
      "The \\`README\\` file in the source distribution explains how to compile\n",
      "the library using \\`make\\`.\n",
      "\n",
      "If you put \\`npy.h\\` and \\`libnpy.a\\` in the same directory as\n",
      "\\`cex.c\\`, then you can build the executable \\`cex\\` with the command"
     ]
    },
    {
     "cell_type": "code",
     "collapsed": false,
     "input": [
      "gcc -o cex cex.c libnpy.a"
     ],
     "language": "python",
     "metadata": {},
     "outputs": []
    },
    {
     "cell_type": "markdown",
     "metadata": {},
     "source": [
      "Similarly, with \\`npy.mod\\` and \\`libnpy.a\\` in the same directory as\n",
      "\\`fex.f95\\`, build \\`fex\\` with the command"
     ]
    },
    {
     "cell_type": "code",
     "collapsed": false,
     "input": [
      "gfortran -o fex fex.f95 libnpy.a"
     ],
     "language": "python",
     "metadata": {},
     "outputs": []
    }
   ],
   "metadata": {}
  }
 ]
}