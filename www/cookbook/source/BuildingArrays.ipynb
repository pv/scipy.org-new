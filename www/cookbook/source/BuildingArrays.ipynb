{
 "metadata": {},
 "nbformat": 3,
 "nbformat_minor": 0,
 "worksheets": [
  {
   "cells": [
    {
     "cell_type": "markdown",
     "metadata": {},
     "source": [
      "Building arrays\n",
      "======================================================================\n",
      "\n",
      "This is a brief introduction to array objects, their declaration and use\n",
      "in scipy. A comprehensive list of examples of Numpy functions for arrays\n",
      "can be found at [\"Numpy Example List With Doc\"]\n",
      "\n",
      "Basics\n",
      "------\n",
      "\n",
      "Numerical arrays are not yet defined in the standard python language. To\n",
      "load the array object and its methods into the namespace, the numpy\n",
      "package must be imported:"
     ]
    },
    {
     "cell_type": "code",
     "collapsed": false,
     "input": [
      "#!python numbers=disable\n",
      "from numpy import *"
     ],
     "language": "python",
     "metadata": {},
     "outputs": []
    },
    {
     "cell_type": "markdown",
     "metadata": {},
     "source": [
      "Arrays can be created from the usual python lists and tuples using the\n",
      "array function. For example,"
     ]
    },
    {
     "cell_type": "code",
     "collapsed": false,
     "input": [
      "#!python numbers=disable\n",
      "a = array([1,2,3])"
     ],
     "language": "python",
     "metadata": {},
     "outputs": []
    },
    {
     "cell_type": "markdown",
     "metadata": {},
     "source": [
      "returns a one dimensional array of integers. The array instance has a\n",
      "large set of methods and properties attached to it. For example, is the\n",
      "dimension of the array. In this case, it would simply be .\n",
      "\n",
      "One big difference between array objects and python's sequences object\n",
      "is the definition of the mathematical operators. Whereas the addition of\n",
      "two lists concatenates those list, the addition of two arrays adds the\n",
      "arrays element-wise. For example :"
     ]
    },
    {
     "cell_type": "code",
     "collapsed": false,
     "input": [
      "#!python numbers=disable\n",
      ">>> b = array((10,11,12))\n",
      ">>> a + b\n",
      "array([11,13,15])"
     ],
     "language": "python",
     "metadata": {},
     "outputs": []
    },
    {
     "cell_type": "markdown",
     "metadata": {},
     "source": [
      "Subtraction, multiplication and division are defined similarly.\n",
      "\n",
      "A common gotcha for beginners is the type definition of arrays. Unless\n",
      "otherwise instructed, the array construct uses the type of its argument.\n",
      "Since was created from a list of integers, it is defined as an integer\n",
      "array, more precisely :"
     ]
    },
    {
     "cell_type": "code",
     "collapsed": false,
     "input": [
      "#!python numbers=disable\n",
      ">>> a.dtype\n",
      "dtype('<i4')"
     ],
     "language": "python",
     "metadata": {},
     "outputs": []
    },
    {
     "cell_type": "markdown",
     "metadata": {},
     "source": [
      "Accordingly, mathematical operations such as division will operate as\n",
      "usual in python, that is, will return an integer answer :"
     ]
    },
    {
     "cell_type": "code",
     "collapsed": false,
     "input": [
      "#!python numbers=disable\n",
      ">>> a/3\n",
      "array([0,0,1])"
     ],
     "language": "python",
     "metadata": {},
     "outputs": []
    },
    {
     "cell_type": "markdown",
     "metadata": {},
     "source": [
      "To obtain the expected answer, one solution is to force the casting of\n",
      "integers into real numbers by dividing by a real number . A more careful\n",
      "approach is to define the type at initialization time :"
     ]
    },
    {
     "cell_type": "code",
     "collapsed": false,
     "input": [
      "#!python numbers=disable\n",
      ">>> a = array([1,2,3], dtype=float)"
     ],
     "language": "python",
     "metadata": {},
     "outputs": []
    },
    {
     "cell_type": "markdown",
     "metadata": {},
     "source": [
      "Another way to cast is by using Numpy's built-in cast functions astype\n",
      "and cast. These allow you to change the type of data you're working\n",
      "with:"
     ]
    },
    {
     "cell_type": "code",
     "collapsed": false,
     "input": [
      "#!python numbers=disable\n",
      ">>> a = array([1,2,3], dtype=int)\n",
      ">>> b = a.astype('float')"
     ],
     "language": "python",
     "metadata": {},
     "outputs": []
    },
    {
     "cell_type": "markdown",
     "metadata": {},
     "source": [
      "The elements of an array are accessed using the bracket notation where\n",
      "is an integer index starting at 0. Sub-arrays can be accessed by using\n",
      "general indexes of the form ''start:stop:step. ''a[start:stop:step] will\n",
      "return a reference to a sub-array of array a starting with (including)\n",
      "the element at index ''start ''going up to (but not including) the\n",
      "element at index stop in steps of *step*. e.g.:"
     ]
    },
    {
     "cell_type": "code",
     "collapsed": false,
     "input": [
      "#!python numbers=disable\n",
      ">>>data = array([0.5, 1.2, 2.2, 3.4, 3.5, 3.4, 3.4, 3.4], float)\n",
      ">>>t  = arange(len(data), dtype='float') * 2*pi/(len(data)-1)\n",
      ">>>t[:]              # get all t-values\n",
      "array([ 0.        ,  0.8975979 ,  1.7951958 ,  2.6927937 ,  3.5903916 ,\n",
      "        4.48798951,  5.38558741,  6.28318531])\n",
      ">>>t[2:4]            # get sub-array with the elements at the indexes 2,3\n",
      "array([ 1.7951958,  2.6927937])\n",
      ">>>t[slice(2,4)]     # the same using slice\n",
      "array([ 1.7951958,  2.6927937])\n",
      ">>>t[0:6:2]          # every even-indexed value up to but excluding 6\n",
      "array([ 0.       ,  1.7951958,  3.5903916])"
     ],
     "language": "python",
     "metadata": {},
     "outputs": []
    },
    {
     "cell_type": "markdown",
     "metadata": {},
     "source": [
      "Furthermore, there is the possibility to access array-elements using\n",
      "bool-arrays. The bool-array has the indexes of elements which are to be\n",
      "accessed set to *True.*"
     ]
    },
    {
     "cell_type": "code",
     "collapsed": false,
     "input": [
      "#!python numbers=disable\n",
      ">>>i=array(len(t)*[False],bool)   # create an bool-array for indexing\n",
      ">>>i[2]=True;i[4]=True;i[6]=True  # we want elements with indexes 2,4 and 6\n",
      ">>>t[i]\n",
      "array([ 1.7951958 ,  3.5903916 ,  5.38558741])"
     ],
     "language": "python",
     "metadata": {},
     "outputs": []
    },
    {
     "cell_type": "markdown",
     "metadata": {},
     "source": [
      "'' ''\n",
      "\n",
      "We can use this syntax to make slightly more elaborate constructs.\n",
      "Consider the data[:] and t[:] arrays defined before. Suppose we want to\n",
      "get the four (t[i]/data[i])-pairs with the four t[i]-values being\n",
      "closest to a point p=1.8. We could proceed as follows:"
     ]
    },
    {
     "cell_type": "code",
     "collapsed": false,
     "input": [
      "#!python numbers=disable\n",
      ">>>p=1.8                            # set our point\n",
      ">>>abs(t-p)                         # how much do the t[:]-values differ from p?\n",
      "array([ 1.8       ,  0.9024021 ,  0.0048042 ,  0.8927937 ,  1.7903916 ,\n",
      "        2.68798951,  3.58558741,  4.48318531])\n",
      ">>>dt_m = sort(abs(t-p))[3]         # how large is the 4-th largest absolute distance between the\n",
      ">>>                                 # t[:]-values and p\n",
      ">>>\n",
      ">>>abs(t-p)<=dt_m                   # where are the four elements of t[:]closest to p ?\n",
      "array([False, True, True, True, True, False, False, False], dtype=bool)\n",
      ">>>y_p = data[abs(t-p)<=dt_m]       # construct the sub-arrays; (1) get the 4 t[:]-values\n",
      ">>>t_p = t[abs(t-p)<=dt_m]          # (2) get the data t[:]-values corresponding to the 4 t[:] values\n",
      ">>>y_p\n",
      "array([ 1.2,  2.2,  3.4,  3.5])\n",
      ">>>t_p\n",
      "array([ 0.8975979,  1.7951958,  2.6927937,  3.5903916])"
     ],
     "language": "python",
     "metadata": {},
     "outputs": []
    },
    {
     "cell_type": "markdown",
     "metadata": {},
     "source": [
      "It has to be kept in mind that slicing returns a reference to the data.\n",
      "As a consequence, changes in the returned sub-array cause changes in the\n",
      "original array and vice versa. If one wants to copy only the values one\n",
      "can use the copy()-method of the matrix object. For example:"
     ]
    },
    {
     "cell_type": "code",
     "collapsed": false,
     "input": [
      "#!python numbers=disable\n",
      "# first lets define a 2-d matrix\n",
      ">>> A = array([[0,   1,  2,  3],   # initialize 2-d array\n",
      "...            [4,   5,  6,  7],\n",
      "...            [8,   9, 10, 11],\n",
      "...            [12, 13, 14, 15]])\n",
      ">>>A\n",
      "array([[ 0,  1,  2,  3],\n",
      "       [ 4,  5,  6,  7],\n",
      "       [ 8,  9, 10, 11],\n",
      "       [12, 13, 14, 15]])\n",
      ">>>\n",
      ">>>b=A[1:3,0:2]                    # let's get a sub-matrix containing the cross-section of\n",
      ">>>                                # rows 1,2 and columns 0,1\n",
      ">>>                                # !attention! this assigns to b a reference to the\n",
      ">>>                                # sub-matrix of A\n",
      ">>>\n",
      ">>>b\n",
      "array([[4, 5],\n",
      "       [8, 9]])\n",
      ">>>c=A[1:3,0:2].copy()             # copy the entries\n",
      ">>>c\n",
      "array([[4, 5],\n",
      "       [8, 9]])\n",
      ">>>A[1:3,0:2] = 42                 # we can also assign by slicing (this also changes shallow copies)\n",
      ">>>b                               # b also affected (only a reference to sub matrix)\n",
      "array([[42, 42],\n",
      "        [42, 42]])\n",
      ">>>c                               # still the same (deep copy)\n",
      "array([[4, 5],\n",
      "       [8, 9]])"
     ],
     "language": "python",
     "metadata": {},
     "outputs": []
    },
    {
     "cell_type": "markdown",
     "metadata": {},
     "source": [
      "Matrix dot product\n",
      "------------------\n",
      "\n",
      "The next example creates two matrices: a and b, and computes the dot\n",
      "product axb (in other words, the standard matrix product)"
     ]
    },
    {
     "cell_type": "code",
     "collapsed": false,
     "input": [
      "#!python numbers=disable\n",
      ">>> a = array([[1,2],[2,3]])\n",
      ">>> b = array([[7,1],[0,1]])\n",
      ">>> dot(a,b)"
     ],
     "language": "python",
     "metadata": {},
     "outputs": []
    },
    {
     "cell_type": "markdown",
     "metadata": {},
     "source": [
      "Automatic array creation\n",
      "------------------------\n",
      "\n",
      "Scipy (via Numpy) provides numerous ways to create arrays automatically.\n",
      "For example, to create a vector of evenly spaced numbers, the linspace\n",
      "function can be called. This is often useful to compute the result of a\n",
      "function on some domain. For example, to compute the value of the\n",
      "function on one period, we would define a vector going from 0 to 2 pi\n",
      "and compute the value of the function for all values in this vector :"
     ]
    },
    {
     "cell_type": "code",
     "collapsed": false,
     "input": [
      "#!python numbers=disable\n",
      ">>> x = linspace(0, 2*pi, 100)\n",
      ">>> y = sin(x)"
     ],
     "language": "python",
     "metadata": {},
     "outputs": []
    },
    {
     "cell_type": "markdown",
     "metadata": {},
     "source": [
      "The same can be done on a N dimensional grid using the class and some of\n",
      "its object creation methods and . For example,"
     ]
    },
    {
     "cell_type": "code",
     "collapsed": false,
     "input": [
      "#!python numbers=disable\n",
      ">>> x,y = mgrid[0:10:.1, 0:10:.2]"
     ],
     "language": "python",
     "metadata": {},
     "outputs": []
    },
    {
     "cell_type": "markdown",
     "metadata": {},
     "source": [
      "returns two matrices, x and y, whose elements range from 0 to 10\n",
      "(non-inclusively) in .1 and .2 increments respectively. These matrices\n",
      "can be used to compute the value of a function at the points (x\\_i,\n",
      "y\\_i) defined by those grids :"
     ]
    },
    {
     "cell_type": "code",
     "collapsed": false,
     "input": [
      "#!python numbers=disable\n",
      ">>> z = (x+y)**2"
     ],
     "language": "python",
     "metadata": {},
     "outputs": []
    },
    {
     "cell_type": "markdown",
     "metadata": {},
     "source": [
      "The ogrid object has the exact same behavior, but instead of storing an\n",
      "N-D matrix into memory, it stores only the 1-D vector that defines it.\n",
      "For large matrices, this can lead to significant economy of memory\n",
      "space.\n",
      "\n",
      "Other useful functions to create matrices are and who initialize arrays\n",
      "full of zeros and ones. Note that those will be float arrays by default.\n",
      "This may lead to curious behaviour for the unawares. For example, let's\n",
      "initialize a matrix with zeros, and then place values in it element by\n",
      "element."
     ]
    },
    {
     "cell_type": "code",
     "collapsed": false,
     "input": [
      "#!python numbers=disable\n",
      "mz = zeros((2,2), dtype=int)\n",
      "mz[0,0] = .5**2\n",
      "mz[1,1] = 1.6**2"
     ],
     "language": "python",
     "metadata": {},
     "outputs": []
    },
    {
     "cell_type": "markdown",
     "metadata": {},
     "source": [
      "In this example, we are trying to store floating point numbers in an\n",
      "integer array. Thus, the numbers are then recast to integers, so that if\n",
      "we print the matrix, we obtain :"
     ]
    },
    {
     "cell_type": "code",
     "collapsed": false,
     "input": [
      "#!python numbers=disable\n",
      "array([[0, 0],\n",
      "       [0, 2]])"
     ],
     "language": "python",
     "metadata": {},
     "outputs": []
    },
    {
     "cell_type": "markdown",
     "metadata": {},
     "source": [
      "To create real number arrays, one simply need to state the type\n",
      "explicitly in the call to the function :"
     ]
    },
    {
     "cell_type": "code",
     "collapsed": false,
     "input": [
      "#!python numbers=disable\n",
      "mz = zeros((2,2), dtype=float)"
     ],
     "language": "python",
     "metadata": {},
     "outputs": []
    },
    {
     "cell_type": "markdown",
     "metadata": {},
     "source": [
      "Repeating array segments\n",
      "------------------------\n",
      "\n",
      "The ndarray.repeat() method returns a new array with dimensions repeated\n",
      "from the old one."
     ]
    },
    {
     "cell_type": "code",
     "collapsed": false,
     "input": [
      "#!python numbers=disable\n",
      ">>> a = array([[0, 1],\n",
      "...            [2, 3]])\n",
      ">>> a.repeat(2, axis=0) # repeats each row twice in succession\n",
      "array([[0, 1],\n",
      "       [0, 1],\n",
      "       [2, 3],\n",
      "       [2, 3]])\n",
      ">>> a.repeat(3, axis=1) # repeats each column 3 times in succession\n",
      "array([[0, 0, 0, 1, 1, 1],\n",
      "       [2, 2, 2, 3, 3, 3]])\n",
      ">>> a.repeat(2, axis=None) # flattens (ravels), then repeats each element twice\n",
      "array([0, 0, 1, 1, 2, 2, 3, 3])"
     ],
     "language": "python",
     "metadata": {},
     "outputs": []
    },
    {
     "cell_type": "markdown",
     "metadata": {},
     "source": [
      "These can be combined to do some useful things, like enlarging image\n",
      "data stored in a 2D array:"
     ]
    },
    {
     "cell_type": "code",
     "collapsed": false,
     "input": [
      "#!python numbers=disable\n",
      "def enlarge(a, x=2, y=None):\n",
      "    \"\"\"Enlarges 2D image array a using simple pixel repetition in both dimensions.\n",
      "    Enlarges by factor x horizontally and factor y vertically.\n",
      "    If y is left as None, uses factor x for both dimensions.\"\"\"\n",
      "    a = asarray(a)\n",
      "    assert a.ndim == 2\n",
      "    if y == None:\n",
      "        y = x\n",
      "    for factor in (x, y):\n",
      "        assert factor.__class__ == int\n",
      "        assert factor > 0\n",
      "    return a.repeat(y, axis=0).repeat(x, axis=1)\n",
      ">>> enlarge(a, x=2, y=2)\n",
      "array([[0, 0, 1, 1],\n",
      "       [0, 0, 1, 1],\n",
      "       [2, 2, 3, 3],\n",
      "       [2, 2, 3, 3]])"
     ],
     "language": "python",
     "metadata": {},
     "outputs": []
    }
   ],
   "metadata": {}
  }
 ]
}