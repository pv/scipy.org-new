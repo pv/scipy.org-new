{
 "metadata": {},
 "nbformat": 3,
 "nbformat_minor": 0,
 "worksheets": [
  {
   "cells": [
    {
     "cell_type": "markdown",
     "metadata": {},
     "source": [
      "Optimization demo\n",
      "=================\n",
      "\n",
      "SciPy's optimization package is scipy.optimize. The most basic\n",
      "non-linear optimization functions are: \\*optimize.fmin(func, x0), which\n",
      "finds the minimum of f(x) starting x with x0 (x can be a vector)\n",
      "\\*optimize.fsolve(func, x0), which finds a solution to func(x) = 0\n",
      "starting with x = x0 (x can be a vector) \\*optimize.fminbound(func, x1,\n",
      "x2), which finds the minimum of a scalar function func(x) for the range\n",
      "[x1,x2] (x1,x2 must be a scalar and func(x) must return a scalar) See\n",
      "the [scipy.optimze\n",
      "documentation](http://docs.scipy.org/doc/scipy/reference/optimize.html)\n",
      "for details.\n",
      "\n",
      "This is a quick demonstration of generating data from several Bessel\n",
      "functions and finding some local maxima using fminbound. This uses\n",
      "ipython with the -pylab switch."
     ]
    },
    {
     "cell_type": "code",
     "collapsed": false,
     "input": [
      "from scipy import optimize, special\n",
      "from numpy import *\n",
      "from pylab import *\n",
      "\n",
      "x = arange(0,10,0.01)\n",
      "\n",
      "for k in arange(0.5,5.5):\n",
      "     y = special.jv(k,x)\n",
      "     plot(x,y)\n",
      "     f = lambda x: -special.jv(k,x)\n",
      "     x_max = optimize.fminbound(f,0,6)\n",
      "     plot([x_max], [special.jv(k,x_max)],'ro')\n",
      "\n",
      "title('Different Bessel functions and their local maxima')\n",
      "show()"
     ],
     "language": "python",
     "metadata": {},
     "outputs": []
    },
    {
     "cell_type": "code",
     "collapsed": false,
     "input": [
      "#!figure\n",
      "#class left\n",
      "# ![](files/attachments/OptimizationDemo1/NumPyOptimizationSmall.png\n",
      "\n",
      "Optimization Example"
     ],
     "language": "python",
     "metadata": {},
     "outputs": []
    }
   ],
   "metadata": {}
  }
 ]
}