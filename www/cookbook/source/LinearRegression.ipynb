{
 "metadata": {},
 "nbformat": 3,
 "nbformat_minor": 0,
 "worksheets": [
  {
   "cells": [
    {
     "cell_type": "markdown",
     "metadata": {},
     "source": [
      "Linear regression\n",
      "======================================================================\n",
      "\n",
      "Linear Regression Example"
     ]
    },
    {
     "cell_type": "code",
     "collapsed": false,
     "input": [
      "from scipy import linspace, polyval, polyfit, sqrt, stats, randn\n",
      "from pylab import plot, title, show , legend\n",
      "\n",
      "#Linear regression example\n",
      "# This is a very simple example of using two scipy tools \n",
      "# for linear regression, polyfit and stats.linregress\n",
      "\n",
      "#Sample data creation\n",
      "#number of points \n",
      "n=50\n",
      "t=linspace(-5,5,n)\n",
      "#parameters\n",
      "a=0.8; b=-4\n",
      "x=polyval([a,b],t)\n",
      "#add some noise\n",
      "xn=x+randn(n)\n",
      "\n",
      "#Linear regressison -polyfit - polyfit can be used other orders polys\n",
      "(ar,br)=polyfit(t,xn,1)\n",
      "xr=polyval([ar,br],t)\n",
      "#compute the mean square error\n",
      "err=sqrt(sum((xr-xn)**2)/n)\n",
      "\n",
      "print('Linear regression using polyfit')\n",
      "print('parameters: a=%.2f b=%.2f \\nregression: a=%.2f b=%.2f, ms error= %.3f' % (a,b,ar,br,err))\n",
      "\n",
      "#matplotlib ploting\n",
      "title('Linear Regression Example')\n",
      "plot(t,x,'g.--')\n",
      "plot(t,xn,'k.')\n",
      "plot(t,xr,'r.-')\n",
      "legend(['original','plus noise', 'regression'])\n",
      "\n",
      "show()\n",
      "\n",
      "#Linear regression using stats.linregress\n",
      "(a_s,b_s,r,tt,stderr)=stats.linregress(t,xn)\n",
      "print('Linear regression using stats.linregress')\n",
      "print('parameters: a=%.2f b=%.2f \\nregression: a=%.2f b=%.2f, std error= %.3f' % (a,b,a_s,b_s,stderr))"
     ],
     "language": "python",
     "metadata": {},
     "outputs": []
    }
   ],
   "metadata": {}
  }
 ]
}