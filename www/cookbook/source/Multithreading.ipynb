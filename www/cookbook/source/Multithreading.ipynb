{
 "metadata": {},
 "nbformat": 3,
 "nbformat_minor": 0,
 "worksheets": [
  {
   "cells": [
    {
     "cell_type": "markdown",
     "metadata": {},
     "source": [
      "Easy multithreading\n",
      "===================\n",
      "\n",
      "Python includes a multithreading package, \"threading\", but python's\n",
      "multithreading is seriously limited by the Global Interpreter Lock,\n",
      "which allows only one thread to be interacting with the interpreter at a\n",
      "time. For purely interpreted code, this makes multithreading effectively\n",
      "cooperative and unable to take advantage of multiple cores.\n",
      "\n",
      "However, numpy code often releases the GIL while it is calculating, so\n",
      "that simple parallelism can speed up the code. For sophisticated\n",
      "applications, one should look into MPI or using threading directly, but\n",
      "surprisingly often one's application is \"embarrassingly parallel\", that\n",
      "is, one simply has to do the same operation to many objects, with no\n",
      "interaction between iterations. This kind of calculation can be easily\n",
      "parallelized:"
     ]
    },
    {
     "cell_type": "code",
     "collapsed": false,
     "input": [
      "dft = parallel_map(lambda f: sum(exp(2.j*pi*f*times)), frequencies)"
     ],
     "language": "python",
     "metadata": {},
     "outputs": []
    },
    {
     "cell_type": "markdown",
     "metadata": {},
     "source": [
      "The code implementing parallel\\_map is not too complicated, and is\n",
      "attached to this entry. Even simpler, if one doesn't want to return\n",
      "values:"
     ]
    },
    {
     "cell_type": "code",
     "collapsed": false,
     "input": [
      "def compute(n):\n",
      "    ...do something...\n",
      "foreach(compute, range(100))"
     ],
     "language": "python",
     "metadata": {},
     "outputs": []
    }
   ],
   "metadata": {}
  }
 ]
}