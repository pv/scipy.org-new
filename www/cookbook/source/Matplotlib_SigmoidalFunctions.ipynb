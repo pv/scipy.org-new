{
 "metadata": {},
 "nbformat": 3,
 "nbformat_minor": 0,
 "worksheets": [
  {
   "cells": [
    {
     "cell_type": "markdown",
     "metadata": {},
     "source": [
      "Matplotlib: sigmoidal functions\n",
      "======================================================================\n",
      "\n",
      "matplotlib's approach to plotting functions requires you to compute the\n",
      "x and y vertices of the curves you want to plot and then pass it off to\n",
      "plot. Eg for a normal pdf, matplotlib.mlab provides such a function:"
     ]
    },
    {
     "cell_type": "code",
     "collapsed": false,
     "input": [
      "from matplotlib.mlab import normpdf\n",
      "import matplotlib.numerix as nx\n",
      "import pylab as p\n",
      "\n",
      "x = nx.arange(-4, 4, 0.01)\n",
      "y = normpdf(x, 0, 1) # unit normal\n",
      "p.plot(x,y, color='red', lw=2)\n",
      "p.show()"
     ],
     "language": "python",
     "metadata": {},
     "outputs": []
    },
    {
     "cell_type": "markdown",
     "metadata": {},
     "source": [
      "Of course, some curves do not have closed form expressions and are not\n",
      "amenable for such treatment. Some of the matplotlib backends have the\n",
      "capability to draw arbitrary paths with splines (cubic and quartic) but\n",
      "this functionality hasn't been exposed to the user yet (as of 0.83). If\n",
      "you need this, please post to the [mailing\n",
      "list](http://sourceforge.net/mail/?group_id=80706) or submit a\n",
      "sourceforge [support\n",
      "request](http://sourceforge.net/tracker/?group_id=80706&atid=560721).\n",
      "\n",
      "Rich Shepard was interested in plotting \"S curves\" and \"Z curves\", and a\n",
      "little bit of googling suggests that the S curve is a sigmoid and the Z\n",
      "curve is simply 1.0-sigmoid. There are many simple forms for sigmoids:\n",
      "eg, the hill, boltzman, and arc tangent functions. Here is an example of\n",
      "the boltzman function:"
     ]
    },
    {
     "cell_type": "code",
     "collapsed": false,
     "input": [
      "import matplotlib.numerix as nx\n",
      "import pylab as p\n",
      "\n",
      "def boltzman(x, xmid, tau):\n",
      "    \"\"\"\n",
      "    evaluate the boltzman function with midpoint xmid and time constant tau\n",
      "    over x\n",
      "    \"\"\"\n",
      "    return 1. / (1. + nx.exp(-(x-xmid)/tau))\n",
      "\n",
      "x = nx.arange(-6, 6, .01)\n",
      "S = boltzman(x, 0, 1)\n",
      "Z = 1-boltzman(x, 0.5, 1)\n",
      "p.plot(x, S, x, Z, color='red', lw=2)\n",
      "p.show()"
     ],
     "language": "python",
     "metadata": {},
     "outputs": []
    },
    {
     "cell_type": "markdown",
     "metadata": {},
     "source": [
      "See also [sigmoids at\n",
      "mathworld](http://mathworld.wolfram.com/SigmoidFunction.html).\n",
      "\n",
      "People often want to shade an area under these curves, eg [under their\n",
      "intersection](http://www.appl-ecosys.com/newstuff.html), which you can\n",
      "do with the magic of numerix and the matplotlib\n",
      "[<http://matplotlib.sourceforge.net/matplotlib.pylab.html>\\#-fill fill]\n",
      "function:"
     ]
    },
    {
     "cell_type": "code",
     "collapsed": false,
     "input": [
      "import matplotlib.numerix as nx\n",
      "import pylab as p\n",
      "\n",
      "def boltzman(x, xmid, tau):\n",
      "    \"\"\"\n",
      "    evaluate the boltzman function with midpoint xmid and time constant tau\n",
      "    over x\n",
      "    \"\"\"\n",
      "    return 1. / (1. + nx.exp(-(x-xmid)/tau))\n",
      "\n",
      "def fill_below_intersection(x, S, Z):\n",
      "    \"\"\"\n",
      "    fill the region below the intersection of S and Z\n",
      "    \"\"\"\n",
      "    #find the intersection point\n",
      "    ind = nx.nonzero( nx.absolute(S-Z)==min(nx.absolute(S-Z)))[0]\n",
      "    # compute a new curve which we will fill below\n",
      "    Y = nx.zeros(S.shape, typecode=nx.Float)\n",
      "    Y[:ind] = S[:ind]  # Y is S up to the intersection\n",
      "    Y[ind:] = Z[ind:]  # and Z beyond it\n",
      "    p.fill(x, Y, facecolor='blue', alpha=0.5)\n",
      "\n",
      "x = nx.arange(-6, 6, .01)\n",
      "S = boltzman(x, 0, 1)\n",
      "Z = 1-boltzman(x, 0.5, 1)\n",
      "p.plot(x, S, x, Z, color='red', lw=2)\n",
      "fill_below_intersection(x, S, Z)\n",
      "p.show()"
     ],
     "language": "python",
     "metadata": {},
     "outputs": []
    }
   ],
   "metadata": {}
  }
 ]
}