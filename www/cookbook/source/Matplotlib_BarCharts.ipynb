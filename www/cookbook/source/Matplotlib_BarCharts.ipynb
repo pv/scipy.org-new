{
 "metadata": {},
 "nbformat": 3,
 "nbformat_minor": 0,
 "worksheets": [
  {
   "cells": [
    {
     "cell_type": "markdown",
     "metadata": {},
     "source": [
      "Matplotlib: bar charts\n",
      "======================================================================\n",
      "\n",
      "Use the bar function to make bar charts:\n",
      "<http://matplotlib.sourceforge.net/matplotlib.pylab.html>\\#-bar\n",
      "\n",
      "Here's an example script that makes a bar char with error bars and\n",
      "labels centered under the bars."
     ]
    },
    {
     "cell_type": "code",
     "collapsed": false,
     "input": [
      "#!/usr/bin/env python\n",
      "import numpy.numarray as na\n",
      "\n",
      "from pylab import *\n",
      "\n",
      "labels = [\"Baseline\", \"System\"]\n",
      "data =   [3.75               , 4.75]\n",
      "error =  [0.3497             , 0.3108]\n",
      "\n",
      "xlocations = na.array(range(len(data)))+0.5\n",
      "width = 0.5\n",
      "bar(xlocations, data, yerr=error, width=width)\n",
      "yticks(range(0, 8))\n",
      "xticks(xlocations+ width/2, labels)\n",
      "xlim(0, xlocations[-1]+width*2)\n",
      "title(\"Average Ratings on the Training Set\")\n",
      "gca().get_xaxis().tick_bottom()\n",
      "gca().get_yaxis().tick_left()\n",
      "\n",
      "show()"
     ],
     "language": "python",
     "metadata": {},
     "outputs": []
    }
   ],
   "metadata": {}
  }
 ]
}