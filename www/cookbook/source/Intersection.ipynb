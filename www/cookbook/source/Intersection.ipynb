{
 "metadata": {},
 "nbformat": 3,
 "nbformat_minor": 0,
 "worksheets": [
  {
   "cells": [
    {
     "cell_type": "markdown",
     "metadata": {},
     "source": [
      "Function intersections\n",
      "======================================================================\n",
      "\n",
      "Find the points at which two given functions intersect\n",
      "------------------------------------------------------\n",
      "\n",
      "Consider the example of finding the intersection of a polynomial and a\n",
      "line:"
     ]
    },
    {
     "cell_type": "code",
     "collapsed": false,
     "input": [
      "y1=x1^2\n",
      "y2=x2+1"
     ],
     "language": "python",
     "metadata": {},
     "outputs": []
    },
    {
     "cell_type": "code",
     "collapsed": false,
     "input": [
      "from scipy.optimize import fsolve\n",
      "\n",
      "import numpy as np\n",
      "\n",
      "def f(xy):\n",
      "   x, y = xy\n",
      "   z = np.array([y - x**2, y - x - 1.0])\n",
      "   return z\n",
      "\n",
      "fsolve(f, [1.0, 2.0])"
     ],
     "language": "python",
     "metadata": {},
     "outputs": []
    },
    {
     "cell_type": "markdown",
     "metadata": {},
     "source": [
      "The result of this should be:"
     ]
    },
    {
     "cell_type": "code",
     "collapsed": false,
     "input": [
      "array([ 1.61803399,  2.61803399])"
     ],
     "language": "python",
     "metadata": {},
     "outputs": []
    }
   ],
   "metadata": {}
  }
 ]
}