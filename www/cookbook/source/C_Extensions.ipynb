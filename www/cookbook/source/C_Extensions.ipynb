{
 "metadata": {},
 "nbformat": 3,
 "nbformat_minor": 0,
 "worksheets": [
  {
   "cells": [
    {
     "cell_type": "markdown",
     "metadata": {},
     "source": [
      "C extensions\n",
      "======================================================================\n",
      "\n",
      "Skeleton\n",
      "--------\n",
      "\n",
      "\\`extmodule.h\\`:"
     ]
    },
    {
     "cell_type": "code",
     "collapsed": false,
     "input": [
      "#ifndef EXTMODULE_H\n",
      "#define EXTMODULE_H\n",
      "\n",
      "#ifdef __cplusplus\n",
      "extern \"C\" {\n",
      "#endif\n",
      "\n",
      "/* Python.h must be included before everything else */\n",
      "#include \"Python.h\"\n",
      "\n",
      "/* include system headers here */\n",
      "\n",
      "#if !defined(EXTMODULE_IMPORT_ARRAY)\n",
      "#define NO_IMPORT_ARRAY\n",
      "#endif\n",
      "#include \"numpy/arrayobject.h\"\n",
      "\n",
      "#ifdef __cplusplus\n",
      "}\n",
      "#endif\n",
      "\n",
      "#endif"
     ],
     "language": "python",
     "metadata": {},
     "outputs": []
    },
    {
     "cell_type": "markdown",
     "metadata": {},
     "source": [
      "Note that \\`PY\\_ARRAY\\_UNIQUE\\_SYMBOL\\` must be set to a unique value\n",
      "for each extension module. But, you actually don't need to set it at all\n",
      "unless you are going to compile an extension module that uses two\n",
      "different source files\n",
      "\n",
      "\\`extmodule.c\\`:"
     ]
    },
    {
     "cell_type": "code",
     "collapsed": false,
     "input": [
      "#define EXTMODULE_IMPORT_ARRAY\n",
      "#include \"extmodule.h\"\n",
      "#undef EXTMODULE_IMPORT_ARRAY\n",
      "\n",
      "static PyObject* FooError;\n",
      "\n",
      "static PyObject* Ext_Foo(PyObject* obj, PyObject* args) {\n",
      "   Py_INCREF(Py_None);\n",
      "   return Py_None;\n",
      "}\n",
      "\n",
      "static PyMethodDef methods[] = {\n",
      "   {\"foo\", (PyCFunction) Ext_Foo, METH_VARARGS, \"\"},\n",
      "   {NULL, NULL, 0, NULL}\n",
      "};\n",
      "\n",
      "PyMODINIT_FUNC init_extmodule() {\n",
      "   PyObject* m;\n",
      "   m = Py_InitModule(\"_extmodule\", methods);\n",
      "   import_array();\n",
      "   SVMError = PyErr_NewException(\"_extmodule.FooError\", NULL, NULL);\n",
      "   Py_INCREF(FooError);\n",
      "   PyModule_AddObject(m, \"FooError\", FooError);\n",
      "}"
     ],
     "language": "python",
     "metadata": {},
     "outputs": []
    },
    {
     "cell_type": "markdown",
     "metadata": {},
     "source": [
      "If your extension module is contained in a single source file then you\n",
      "can get rid of extmodule.h entirely and replace the first part of\n",
      "extmodule.c with"
     ]
    },
    {
     "cell_type": "code",
     "collapsed": false,
     "input": [
      "#inlude \"Python.h\"\n",
      "#include \"numpy/arrayobject.h\"\n",
      "\n",
      "/* remainder of extmodule.c after here */"
     ],
     "language": "python",
     "metadata": {},
     "outputs": []
    },
    {
     "cell_type": "markdown",
     "metadata": {},
     "source": [
      "Debugging C Extensions on Windows\n",
      "---------------------------------\n",
      "\n",
      "Debugging C extensions on Windows can be tricky. If you compile your\n",
      "extension code in debug mode, you have to link against the debug version\n",
      "of the Python library, e.g. \\`Python24\\_d.lib\\`. When building with\n",
      "Visual Studio, this is taken care of by a pragma in \\`Python24.h\\`. If\n",
      "you force the compiler to link debug code against the release library,\n",
      "you will probably get the following errors (especially when compiling\n",
      "SWIG wrapped codes):"
     ]
    },
    {
     "cell_type": "code",
     "collapsed": false,
     "input": [
      "extmodule.obj : error LNK2019: unresolved external symbol __imp___Py_Dealloc referenced in function _PySwigObject_format\n",
      "extmodule.obj : error LNK2019: unresolved external symbol __imp___Py_NegativeRefcount referenced in function _PySwigObject_format\n",
      "extmodule.obj : error LNK2001: unresolved external symbol __imp___Py_RefTotal\n",
      "extmodule.obj : error LNK2019: unresolved external symbol __imp___PyObject_DebugFree referenced in function _PySwigObject_dealloc\n",
      "extmodule.obj : error LNK2019: unresolved external symbol __imp___PyObject_DebugMalloc referenced in function _PySwigObject_New\n",
      "extmodule.obj : error LNK2019: unresolved external symbol __imp__Py_InitModule4TraceRefs referenced in function _init_extmodule"
     ],
     "language": "python",
     "metadata": {},
     "outputs": []
    },
    {
     "cell_type": "markdown",
     "metadata": {},
     "source": [
      "However, now you also need a debug build of the Python interpreter if\n",
      "you want to import this debuggable extension module. Now you also need\n",
      "debug builds of every other extension module you use. Clearly, this can\n",
      "take some time to get sorted out.\n",
      "\n",
      "An alternative is to build your library code as a debug DLL. This way,\n",
      "you can at least that your extension module is passing the right data to\n",
      "the library code you are wrapping.\n",
      "\n",
      "As an aside, it seems that the MinGW GCC compiler doesn't produce debug\n",
      "symbols that are understood by the Visual Studio debugger.\n",
      "\n",
      "Valgrind\n",
      "--------\n",
      "\n",
      "To develop a stable extension module, it is essential that you check the\n",
      "memory allocation and memory accesses done by your C code. On Linux, you\n",
      "can use [Valgrind](http://www.valgrind.org/). On Windows, you could try\n",
      "a commercial tool such as [Rational\n",
      "PurifyPlus](http://www-306.ibm.com/software/awdtools/purifyplus/).\n",
      "\n",
      "Before using Valgrind, make sure your extension module is compiled with\n",
      "the \\`-g\\` switch to GCC so that you can get useful stack traces when\n",
      "errors are detected.\n",
      "\n",
      "Then put the following in a shell script, say \\`valgrind\\_py.sh\\`:"
     ]
    },
    {
     "cell_type": "code",
     "collapsed": false,
     "input": [
      "#!/bin/sh\n",
      "valgrind \\\n",
      "   --tool=memcheck \\\n",
      "   --leak-check=yes \\\n",
      "   --error-limit=no \\\n",
      "   --suppressions=valgrind-python.supp \\\n",
      "   --num-callers=10 \\\n",
      "   -v \\\n",
      "   python $1"
     ],
     "language": "python",
     "metadata": {},
     "outputs": []
    }
   ],
   "metadata": {}
  }
 ]
}