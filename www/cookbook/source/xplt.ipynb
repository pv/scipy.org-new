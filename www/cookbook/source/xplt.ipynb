{
 "metadata": {},
 "nbformat": 3,
 "nbformat_minor": 0,
 "worksheets": [
  {
   "cells": [
    {
     "cell_type": "markdown",
     "metadata": {},
     "source": [
      "xplt\n",
      "====\n",
      "\n",
      "This shows a simple example of how to create a quick 3-d surface\n",
      "visualization using xplt."
     ]
    },
    {
     "cell_type": "code",
     "collapsed": false,
     "input": [
      "from scipy.sandbox import xplt\n",
      "from numpy import *\n",
      "from scipy import special\n",
      "\n",
      "x,y = ogrid[-12:12:50j,-12:12:50j]\n",
      "r = sqrt(x**2+y**2)\n",
      "z = special.j0(r)\n",
      "xplt.surf(z,x,y,shade=1,palette='heat')"
     ],
     "language": "python",
     "metadata": {},
     "outputs": []
    }
   ],
   "metadata": {}
  }
 ]
}