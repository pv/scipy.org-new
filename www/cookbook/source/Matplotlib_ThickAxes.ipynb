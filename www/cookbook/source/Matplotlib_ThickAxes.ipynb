{
 "metadata": {},
 "nbformat": 3,
 "nbformat_minor": 0,
 "worksheets": [
  {
   "cells": [
    {
     "cell_type": "markdown",
     "metadata": {},
     "source": [
      "Matplotlib: thick axes\n",
      "======================================================================\n",
      "\n",
      "Example of how to thicken the lines around your plot (axes lines) and to\n",
      "get big bold fonts on the tick and axis labels."
     ]
    },
    {
     "cell_type": "code",
     "collapsed": false,
     "input": [
      "from pylab import *\n",
      "\n",
      "# Thicken the axes lines and labels\n",
      "# \n",
      "#   Comment by J. R. Lu:\n",
      "#       I couldn't figure out a way to do this on the \n",
      "#       individual plot and have it work with all backends\n",
      "#       and in interactive mode. So, used rc instead.\n",
      "# \n",
      "rc('axes', linewidth=2)\n",
      "\n",
      "# Make a dummy plot\n",
      "plot([0, 1], [0, 1])\n",
      "\n",
      "# Change size and font of tick labels\n",
      "# Again, this doesn't work in interactive mode.\n",
      "fontsize = 14\n",
      "ax = gca()\n",
      "\n",
      "for tick in ax.xaxis.get_major_ticks():\n",
      "    tick.label1.set_fontsize(fontsize)\n",
      "    tick.label1.set_fontweight('bold')\n",
      "for tick in ax.yaxis.get_major_ticks():\n",
      "    tick.label1.set_fontsize(fontsize)\n",
      "    tick.label1.set_fontweight('bold')\n",
      "\n",
      "xlabel('X Axis', fontsize=16, fontweight='bold')\n",
      "ylabel('Y Axis', fontsize=16, fontweight='bold')\n",
      "\n",
      "# Save figure\n",
      "savefig('thick_axes.png')"
     ],
     "language": "python",
     "metadata": {},
     "outputs": []
    }
   ],
   "metadata": {}
  }
 ]
}