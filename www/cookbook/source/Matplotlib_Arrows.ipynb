{
 "metadata": {},
 "nbformat": 3,
 "nbformat_minor": 0,
 "worksheets": [
  {
   "cells": [
    {
     "cell_type": "markdown",
     "metadata": {},
     "source": [
      "Matplotlib: arrows\n",
      "======================================================================\n",
      "\n",
      "Some example code for how to plot an arrow using the Arrow function."
     ]
    },
    {
     "cell_type": "code",
     "collapsed": false,
     "input": [
      "from pylab import *\n",
      "from numarray import *\n",
      "\n",
      "x = arange(10)\n",
      "y = x\n",
      "\n",
      "# Plot junk and then a filled region\n",
      "plot(x, y)\n",
      "\n",
      "# Now lets make an arrow object\n",
      "arr = Arrow(2, 2, 1, 1, edgecolor='white')\n",
      "\n",
      "# Get the subplot that we are currently working on\n",
      "ax = gca()\n",
      "\n",
      "# Now add the arrow\n",
      "ax.add_patch(arr)\n",
      "\n",
      "# We should be able to make modifications to the arrow.\n",
      "# Lets make it green.\n",
      "arr.set_facecolor('g')"
     ],
     "language": "python",
     "metadata": {},
     "outputs": []
    }
   ],
   "metadata": {}
  }
 ]
}