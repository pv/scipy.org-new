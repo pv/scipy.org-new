{
 "metadata": {},
 "nbformat": 3,
 "nbformat_minor": 0,
 "worksheets": [
  {
   "cells": [
    {
     "cell_type": "markdown",
     "metadata": {},
     "source": [
      "Matplotlib: compiling matplotlib on solaris10\n",
      "======================================================================\n",
      "\n",
      "[how to install\n",
      "sunstudio](http://blogs.sun.com/migi/entry/opensolaris_howto_install_sun_studio)\n",
      "and [build matplotlib on solaris\n",
      "10](http://blogs.sun.com/yongsun/entry/build_matplotlib_0_98_3) might\n",
      "give some hints.\n",
      "\n",
      "JDH said:"
     ]
    },
    {
     "cell_type": "code",
     "collapsed": false,
     "input": [
      "> Hi Erik -- if you succeed, then we'll have convincing proof that\n",
      "> compiling mpl on solaris is easier than giving up the sauce."
     ],
     "language": "python",
     "metadata": {},
     "outputs": []
    }
   ],
   "metadata": {}
  }
 ]
}