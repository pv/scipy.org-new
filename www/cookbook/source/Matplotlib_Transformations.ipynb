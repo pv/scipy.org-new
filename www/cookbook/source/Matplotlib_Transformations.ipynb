{
 "metadata": {},
 "nbformat": 3,
 "nbformat_minor": 0,
 "worksheets": [
  {
   "cells": [
    {
     "cell_type": "markdown",
     "metadata": {},
     "source": [
      "Matplotlib: transformations\n",
      "======================================================================\n",
      "\n",
      "Whenever you pass coordinates to matplotlib, the question arises, what\n",
      "kind of coordinates you mean. Consider the following example"
     ]
    },
    {
     "cell_type": "code",
     "collapsed": false,
     "input": [
      "axes.text(x,y, \"my label\")"
     ],
     "language": "python",
     "metadata": {},
     "outputs": []
    },
    {
     "cell_type": "markdown",
     "metadata": {},
     "source": [
      "A label 'my label' is added to the axes at the coordinates x,y, or\n",
      "stated more clearly: The text is placed at the theoretical position of a\n",
      "data point (x,y). Thus we would speak of \"data coords\". There are\n",
      "however other coordinates one can think of. You might e.g. want to put a\n",
      "label in the exact middle of your graph. If you specified this by the\n",
      "method above, then you would need to determine the minimum and maximum\n",
      "values of x and y to determine the middle. However, using transforms,\n",
      "you can simply use"
     ]
    },
    {
     "cell_type": "code",
     "collapsed": false,
     "input": [
      "axes.text(0.5, 0.5, \"middle of graph\", transform=axes.transAxes)"
     ],
     "language": "python",
     "metadata": {},
     "outputs": []
    },
    {
     "cell_type": "markdown",
     "metadata": {},
     "source": [
      "There are four built-in transforms that you should be aware of (let ax\n",
      "be an Axes instance and fig a Figure instance):"
     ]
    },
    {
     "cell_type": "code",
     "collapsed": false,
     "input": [
      "matplotlib.transforms.identity_transform()  # display coords\n",
      "ax.transData     # data coords\n",
      "ax.transAxes     # 0,0 is bottom,left of axes and 1,1 is top,right\n",
      "fig.transFigure  # 0,0 is bottom,left of figure and 1,1 is top,right"
     ],
     "language": "python",
     "metadata": {},
     "outputs": []
    },
    {
     "cell_type": "markdown",
     "metadata": {},
     "source": [
      "These transformations can be used for any kind of Artist, not just for\n",
      "text objects.\n",
      "\n",
      "The default transformation for ax.text is ax.transData and the default\n",
      "transformation for fig.text is fig.transFigure.\n",
      "\n",
      "Of course, you can define more general transformations, e.g.\n",
      "matplotlib.transforms.Affine, but the four listed above arise in a lot\n",
      "of applications.\n",
      "\n",
      "xy\\_tup() is no more. Please see the official Matplotlib documentation\n",
      "at <http://matplotlib.sourceforge.net/users/transforms_tutorial.html>\n",
      "for further reference.\n",
      "\n",
      "Example: tick label like annotations\n",
      "------------------------------------\n",
      "\n",
      "If you find that the built-in tick labels of Matplotlib are not enough\n",
      "for you, you can use transformations to implement something similar.\n",
      "Here is an example that draws annotations below the tick labels, and\n",
      "uses a transformation to guarantee that the x coordinates of the\n",
      "annotation correspond to the x coordinates of the plot, but the y\n",
      "coordinates are at a fixed position, independent of the scale of the\n",
      "plot:"
     ]
    },
    {
     "cell_type": "code",
     "collapsed": false,
     "input": [
      "import matplotlib as M\n",
      "import Numeric as N\n",
      "import pylab as P\n",
      "blend = M.transforms.blend_xy_sep_transform\n",
      "\n",
      "def doplot(fig, subplot, function):\n",
      "    ax = fig.add_subplot(subplot)\n",
      "    x = N.arange(0, 2*N.pi, 0.05)\n",
      "    ax.plot(x, function(x))\n",
      "\n",
      "    trans = blend(ax.transData, ax.transAxes)\n",
      "\n",
      "    for x,text in [(0.0, '|'), (N.pi/2, r'$\\rm{zero\\ to\\ }\\pi$'),\n",
      "                   (N.pi, '|'), (N.pi*1.5, r'$\\pi\\rm{\\ to\\ }2\\pi$'),\n",
      "                   (2*N.pi, '|')]:\n",
      "        ax.text(x, -0.1, text, transform=trans,\n",
      "                horizontalalignment='center')\n",
      "\n",
      "fig = P.figure()\n",
      "doplot(fig, 121, N.sin)\n",
      "doplot(fig, 122, lambda x: 10*N.sin(x))\n",
      "P.show()"
     ],
     "language": "python",
     "metadata": {},
     "outputs": []
    },
    {
     "cell_type": "markdown",
     "metadata": {},
     "source": [
      "Example: adding a pixel offset to data coords\n",
      "---------------------------------------------\n",
      "\n",
      "Sometimes you want to specify that a label is shown a fixed *pixel*\n",
      "offset from the corresponding data point, regardless of zooming. Here is\n",
      "one way to do it; try running this in an interactive backend, and\n",
      "zooming and panning the figure.\n",
      "\n",
      "The way this works is by first taking a shallow copy of \\`transData\\`\n",
      "and then adding an offset to it. All transformations can have an offset\n",
      "which can be modified with \\`set\\_offset\\`, and the copying is necessary\n",
      "to avoid modifying the transform of the data itself. New enough versions\n",
      "of matplotlib (currently only the svn version) have an \\`offset\\_copy\\`\n",
      "function which does this automatically."
     ]
    },
    {
     "cell_type": "code",
     "collapsed": false,
     "input": [
      "import matplotlib\n",
      "import matplotlib.transforms\n",
      "from pylab import figure, show\n",
      "\n",
      "# New enough versions have offset_copy by Eric Firing:\n",
      "if 'offset_copy' in dir(matplotlib.transforms):\n",
      "    from matplotlib.transforms import offset_copy\n",
      "    def offset(ax, x, y):\n",
      "        return offset_copy(ax.transData, x=x, y=y, units='dots')\n",
      "else: # Without offset_copy we have to do some black transform magic\n",
      "    from matplotlib.transforms import blend_xy_sep_transform, identity_transform\n",
      "    def offset(ax, x, y):\n",
      "        # This trick makes a shallow copy of ax.transData (but fails for polar plots):\n",
      "        trans = blend_xy_sep_transform(ax.transData, ax.transData)\n",
      "        # Now we set the offset in pixels\n",
      "        trans.set_offset((x,y), identity_transform())\n",
      "        return trans\n",
      "\n",
      "fig=figure()\n",
      "ax=fig.add_subplot(111)\n",
      "\n",
      "# plot some data\n",
      "x = (3,1,4,1,5,9,2,6,5,3,5,8,9,7,9,3)\n",
      "y = (2,7,1,8,2,8,1,8,2,8,4,5,9,0,4,5)\n",
      "ax.plot(x,y,'.')\n",
      "\n",
      "# add labels\n",
      "trans=offset(ax, 10, 5)\n",
      "for a,b in zip(x,y):\n",
      "    ax.text(a, b, '(%d,%d)'%(a,b), transform=trans)\n",
      "\n",
      "show()"
     ],
     "language": "python",
     "metadata": {},
     "outputs": []
    }
   ],
   "metadata": {}
  }
 ]
}