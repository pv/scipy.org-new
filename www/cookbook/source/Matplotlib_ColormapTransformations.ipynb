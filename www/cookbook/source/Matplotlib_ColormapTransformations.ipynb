{
 "metadata": {},
 "nbformat": 3,
 "nbformat_minor": 0,
 "worksheets": [
  {
   "cells": [
    {
     "cell_type": "markdown",
     "metadata": {},
     "source": [
      "Matplotlib: colormap transformations\n",
      "======================================================================\n",
      "\n",
      "Operating on color vectors\n",
      "--------------------------\n",
      "\n",
      "Ever wanted to reverse a colormap, or to desaturate one ? Here is a\n",
      "routine to apply a function to the look up table of a colormap:"
     ]
    },
    {
     "cell_type": "code",
     "collapsed": false,
     "input": [
      "def cmap_map(function,cmap):\n",
      "    \"\"\" Applies function (which should operate on vectors of shape 3:\n",
      "    [r, g, b], on colormap cmap. This routine will break any discontinuous     points in a colormap.\n",
      "    \"\"\"\n",
      "    cdict = cmap._segmentdata\n",
      "    step_dict = {}\n",
      "    # Firt get the list of points where the segments start or end\n",
      "    for key in ('red','green','blue'):         step_dict[key] = map(lambda x: x[0], cdict[key])\n",
      "    step_list = sum(step_dict.values(), [])\n",
      "    step_list = array(list(set(step_list)))\n",
      "    # Then compute the LUT, and apply the function to the LUT\n",
      "    reduced_cmap = lambda step : array(cmap(step)[0:3])\n",
      "    old_LUT = array(map( reduced_cmap, step_list))\n",
      "    new_LUT = array(map( function, old_LUT))\n",
      "    # Now try to make a minimal segment definition of the new LUT\n",
      "    cdict = {}\n",
      "    for i,key in enumerate(('red','green','blue')):\n",
      "        this_cdict = {}\n",
      "        for j,step in enumerate(step_list):\n",
      "            if step in step_dict[key]:\n",
      "                this_cdict[step] = new_LUT[j,i]\n",
      "            elif new_LUT[j,i]!=old_LUT[j,i]:\n",
      "                this_cdict[step] = new_LUT[j,i]\n",
      "        colorvector=  map(lambda x: x + (x[1], ), this_cdict.items())\n",
      "        colorvector.sort()\n",
      "        cdict[key] = colorvector\n",
      "\n",
      "    return matplotlib.colors.LinearSegmentedColormap('colormap',cdict,1024)"
     ],
     "language": "python",
     "metadata": {},
     "outputs": []
    },
    {
     "cell_type": "markdown",
     "metadata": {},
     "source": [
      "Lets try it out: I want a jet colormap, but lighter, so that I can plot\n",
      "things on top of it:"
     ]
    },
    {
     "cell_type": "code",
     "collapsed": false,
     "input": [
      "light_jet = cmap_map(lambda x: x/2+0.5, cm.jet)\n",
      "x,y=mgrid[1:2,1:10:0.1]\n",
      "imshow(y, cmap=light_jet)"
     ],
     "language": "python",
     "metadata": {},
     "outputs": []
    },
    {
     "cell_type": "markdown",
     "metadata": {},
     "source": [
      "![](files/attachments/Matplotlib_ColormapTransformations/light_jet4.png\n",
      "\n",
      "As a comparison, this is what the original jet looks like:\n",
      "![](files/attachments/Matplotlib_ColormapTransformations/jet.png\n",
      "\n",
      "Operating on indices\n",
      "--------------------\n",
      "\n",
      "OK, but what if you want to change the indices of a colormap, but not\n",
      "its colors."
     ]
    },
    {
     "cell_type": "code",
     "collapsed": false,
     "input": [
      "def cmap_xmap(function,cmap):\n",
      "    \"\"\" Applies function, on the indices of colormap cmap. Beware, function\n",
      "    should map the [0, 1] segment to itself, or you are in for surprises.\n",
      "\n",
      "    See also cmap_xmap.\n",
      "    \"\"\"\n",
      "    cdict = cmap._segmentdata\n",
      "    function_to_map = lambda x : (function(x[0]), x[1], x[2])\n",
      "    for key in ('red','green','blue'):         cdict[key] = map(function_to_map, cdict[key])\n",
      "        cdict[key].sort()\n",
      "        assert (cdict[key][0]<0 or cdict[key][-1]>1), \"Resulting indices extend out of the [0, 1] segment.\"\n",
      "\n",
      "\n",
      "    return matplotlib.colors.LinearSegmentedColormap('colormap',cdict,1024)"
     ],
     "language": "python",
     "metadata": {},
     "outputs": []
    },
    {
     "cell_type": "markdown",
     "metadata": {},
     "source": [
      "Discrete colormap\n",
      "-----------------\n",
      "\n",
      "Here is how you can discretize a continuous colormap."
     ]
    },
    {
     "cell_type": "code",
     "collapsed": false,
     "input": [
      "def cmap_discretize(cmap, N):\n",
      "    \"\"\"Return a discrete colormap from the continuous colormap cmap.\n",
      "    \n",
      "        cmap: colormap instance, eg. cm.jet. \n",
      "        N: number of colors.\n",
      "    \n",
      "    Example\n",
      "        x = resize(arange(100), (5,100))\n",
      "        djet = cmap_discretize(cm.jet, 5)\n",
      "        imshow(x, cmap=djet)\n",
      "    \"\"\"\n",
      "    \n",
      "    if type(cmap) == str:\n",
      "        cmap = get_cmap(cmap)\n",
      "    colors_i = concatenate((linspace(0, 1., N), (0.,0.,0.,0.)))\n",
      "    colors_rgba = cmap(colors_i)\n",
      "    indices = linspace(0, 1., N+1)\n",
      "    cdict = {}\n",
      "    for ki,key in enumerate(('red','green','blue')):\n",
      "        cdict[key] = [ (indices[i], colors_rgba[i-1,ki], colors_rgba[i,ki]) for i in xrange(N+1) ]\n",
      "    # Return colormap object.\n",
      "    return matplotlib.colors.LinearSegmentedColormap(cmap.name + \"_%d\"%N, cdict, 1024)"
     ],
     "language": "python",
     "metadata": {},
     "outputs": []
    }
   ],
   "metadata": {}
  }
 ]
}