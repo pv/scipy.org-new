{
 "metadata": {},
 "nbformat": 3,
 "nbformat_minor": 0,
 "worksheets": [
  {
   "cells": [
    {
     "cell_type": "markdown",
     "metadata": {},
     "source": [
      "Watershed\n",
      "=========\n",
      "\n",
      "The watershed algorithm (see\n",
      "[1](http://en.wikipedia.org/wiki/Watershed_(algorithm))) is used to\n",
      "split an image into distinct components.\n",
      "\n",
      "Suppose that we have the following image, composed of three whites disks\n",
      "(pixels of value 1) and a black background (pixels of value 0). We want\n",
      "to obtain a new array where each pixel is labeled with the index of the\n",
      "component to which it belongs, that is a segmentation of the orginal\n",
      "array, as shown in the image below. We will use the watershed algorithm\n",
      "provided by scipy.ndimage, scipy.ndimage.watershed\\_ift.\n",
      "\n",
      "![](files/attachments/Watershed/watershed.png)\n",
      ")# "
     ]
    },
    {
     "cell_type": "code",
     "collapsed": false,
     "input": [
      "#!python\n",
      "\n",
      ">>> # Create the initial black and white image\n",
      ">>> import numpy as np\n",
      ">>> from scipy import ndimage\n",
      ">>> a = np.zeros((512, 512)).astype(uint8) #unsigned integer type needed by watershed\n",
      ">>> y, x = np.ogrid[0:512, 0:512]\n",
      ">>> m1 = ((y-200)**2 + (x-100)**2 < 30**2)\n",
      ">>> m2 = ((y-350)**2 + (x-400)**2 < 20**2)\n",
      ">>> m3 = ((y-260)**2 + (x-200)**2 < 20**2)\n",
      ">>> a[m1+m2+m3]=1\n",
      ">>> imshow(a, cmap = cm.gray)# left plot in the image above"
     ],
     "language": "python",
     "metadata": {},
     "outputs": []
    },
    {
     "cell_type": "markdown",
     "metadata": {},
     "source": [
      "The watershed algorithm relies on the *flooding* of different basins, so\n",
      "we need to put markers in the image to initiate the flooding. If one\n",
      "knows approximately where the objects are, and there are only a few\n",
      "objects, it is possible to set the markers by hand"
     ]
    },
    {
     "cell_type": "code",
     "collapsed": false,
     "input": [
      "#!python\n",
      ">>> markers = np.zeros_like(a).astype(int16)\n",
      ">>> markers[0, 0] = 1\n",
      ">>> markers[200, 100] = 2\n",
      ">>> markers[350, 400] = 3\n",
      ">>> markers[260, 200] = 4\n",
      ">>> res1 = ndimage.watershed_ift(a.astype(uint8), markers)\n",
      ">>> np.unique1d(res1) # pixels are tagged according to the object they belong to\n",
      "array([1, 2, 3, 4], dtype=int16)\n",
      ">>> imshow(res1, cmap=cm.jet) # central plot in the image above"
     ],
     "language": "python",
     "metadata": {},
     "outputs": []
    },
    {
     "cell_type": "markdown",
     "metadata": {},
     "source": [
      "If you don't know where to put the markers, and you know the minimal\n",
      "size of the objects, you can spread a lot of markers on a grid finer\n",
      "than the objects."
     ]
    },
    {
     "cell_type": "code",
     "collapsed": false,
     "input": [
      "#!python\n",
      ">>> xm, ym = np.ogrid[0:512:10, 0:512:10]\n",
      ">>> markers = np.zeros_like(a).astype(int16)\n",
      ">>> markers[xm, ym]= np.arange(xm.size*ym.size).reshape((xm.size,ym.size))\n",
      ">>> res2 = ndimage.watershed_ift(a.astype(uint8), markers)\n",
      ">>> res2[xm, ym] = res2[xm-1, ym-1] # remove the isolate seeds\n",
      ">>> imshow(res2, cmap=cm.jet)\n",
      "<matplotlib.image.AxesImage object at 0xf1fd1ac>"
     ],
     "language": "python",
     "metadata": {},
     "outputs": []
    }
   ],
   "metadata": {}
  }
 ]
}