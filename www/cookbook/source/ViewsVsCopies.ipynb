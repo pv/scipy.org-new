{
 "metadata": {},
 "nbformat": 3,
 "nbformat_minor": 0,
 "worksheets": [
  {
   "cells": [
    {
     "cell_type": "markdown",
     "metadata": {},
     "source": [
      "Views versus copies in NumPy\n",
      "============================\n",
      "\n",
      "From time to time, people write to the !NumPy list asking in which cases\n",
      "a view of an array is created and in which it isn't. This page tries to\n",
      "clarify some tricky points on this rather subtle subject.\n",
      "\n",
      "What is a view of a NumPy array?\n",
      "--------------------------------\n",
      "\n",
      "As its name is saying, it is simply another way of **viewing** the data\n",
      "of the array. Technically, that means that the data of both objects is\n",
      "*shared*. You can create views by selecting a **slice** of the original\n",
      "array, or also by changing the **dtype** (or a combination of both).\n",
      "These different kinds of views are described below.\n",
      "\n",
      "Slice views\n",
      "-----------\n",
      "\n",
      "This is probably the most common source of view creations in !NumPy. The\n",
      "rule of thumb for creating a slice view is that the viewed elements can\n",
      "be addressed with offsets, strides, and counts in the original array.\n",
      "For example:"
     ]
    },
    {
     "cell_type": "code",
     "collapsed": false,
     "input": [
      ">>> a = numpy.arange(10)\n",
      ">>> a\n",
      "array([0, 1, 2, 3, 4, 5, 6, 7, 8, 9])\n",
      ">>> v1 = a[1:2]\n",
      ">>> v1\n",
      "array([1])\n",
      ">>> a[1] = 2\n",
      ">>> v1\n",
      "array([2])\n",
      ">>> v2 = a[1::3]\n",
      ">>> v2\n",
      "array([2, 4, 7])\n",
      ">>> a[7] = 10\n",
      ">>> v2\n",
      "array([ 2,  4, 10])"
     ],
     "language": "python",
     "metadata": {},
     "outputs": []
    },
    {
     "cell_type": "markdown",
     "metadata": {},
     "source": [
      "In the above code snippet, () and () are views of , because if you\n",
      "update , and will reflect the change.\n",
      "\n",
      "Dtype views\n",
      "-----------\n",
      "\n",
      "Another way to create array views is by assigning another **dtype** to\n",
      "the same data area. For example:"
     ]
    },
    {
     "cell_type": "code",
     "collapsed": false,
     "input": [
      ">>> b = numpy.arange(10, dtype='int16')\n",
      ">>> b\n",
      "array([0, 1, 2, 3, 4, 5, 6, 7, 8, 9], dtype=int16)\n",
      ">>> v3 = b.view('int32')\n",
      ">>> v3 += 1\n",
      ">>> b\n",
      "array([1, 1, 3, 3, 5, 5, 7, 7, 9, 9], dtype=int16)\n",
      ">>> v4 = b.view('int8')\n",
      ">>> v4\n",
      "array([1, 0, 1, 0, 3, 0, 3, 0, 5, 0, 5, 0, 7, 0, 7, 0, 9, 0, 9, 0], dtype=int8)"
     ],
     "language": "python",
     "metadata": {},
     "outputs": []
    },
    {
     "cell_type": "markdown",
     "metadata": {},
     "source": [
      "In that case, and are views of . As you can see, **dtype views** are not\n",
      "as useful as **slice views**, but can be handy in some cases (for\n",
      "example, for quickly looking at the bytes of a generic array).\n",
      "\n",
      "FAQ\n",
      "---\n",
      "\n",
      "### I think I understand what a view is, but why fancy indexing is not returning a view?\n",
      "\n",
      "One might be tempted to think that doing fancy indexing may lead to\n",
      "sliced views. But this is not true:"
     ]
    },
    {
     "cell_type": "code",
     "collapsed": false,
     "input": [
      ">>> a = numpy.arange(10)\n",
      ">>> c1 = a[[1,3]]\n",
      ">>> c2 = a[[3,1,1]]\n",
      ">>> a[:] = 100\n",
      ">>> c1\n",
      "array([1, 3])\n",
      ">>> c2\n",
      "array([3, 1, 1])"
     ],
     "language": "python",
     "metadata": {},
     "outputs": []
    },
    {
     "cell_type": "markdown",
     "metadata": {},
     "source": [
      "The reason why a fancy indexing is not returning a view is that, in\n",
      "general, it cannot be expressed as a **slice** (in the sense stated\n",
      "above of being able to be addressed with offsets, strides, and counts).\n",
      "\n",
      "For example, fancy indexing for could have been expressed by , but it is\n",
      "not possible to do the same for by means of a slice. So, this is why an\n",
      "object with a *copy* of the original data is returned instead.\n",
      "\n",
      "### But fancy indexing does seem to return views sometimes, doesn't it?\n",
      "\n",
      "Many users get fooled and think that fancy indexing returns views\n",
      "instead of copies when they use this idiom:"
     ]
    },
    {
     "cell_type": "code",
     "collapsed": false,
     "input": [
      ">>> a = numpy.arange(10)\n",
      ">>> a[[1,2]] = 100\n",
      ">>> a\n",
      "array([  0, 100, 100,   3,   4,   5,   6,   7,   8,   9])"
     ],
     "language": "python",
     "metadata": {},
     "outputs": []
    },
    {
     "cell_type": "markdown",
     "metadata": {},
     "source": [
      "So, it seems that a<1,2> is actually a *view* because elements 1 and 2\n",
      "have been updated. However, if we try this step by step, it won't work:"
     ]
    },
    {
     "cell_type": "code",
     "collapsed": false,
     "input": [
      ">>> a = numpy.arange(10)\n",
      ">>> c1 = a[[1,2]]\n",
      ">>> c1[:] = 100\n",
      ">>> a\n",
      "array([0, 1, 2, 3, 4, 5, 6, 7, 8, 9])\n",
      ">>> c1\n",
      "array([100, 100])"
     ],
     "language": "python",
     "metadata": {},
     "outputs": []
    },
    {
     "cell_type": "markdown",
     "metadata": {},
     "source": [
      "What happens here is that, in the first idiom (), the python interpreter\n",
      "translate it to:"
     ]
    },
    {
     "cell_type": "code",
     "collapsed": false,
     "input": [
      "a.__setitem__([1,2], 100)"
     ],
     "language": "python",
     "metadata": {},
     "outputs": []
    },
    {
     "cell_type": "markdown",
     "metadata": {},
     "source": [
      "i.e. there is not need to create neither a view or a copy because the\n",
      "method can be evaluated *inplace* (i.e. no new object creation is\n",
      "involved).\n",
      "\n",
      "However, the second idiom () is translated to:"
     ]
    },
    {
     "cell_type": "code",
     "collapsed": false,
     "input": [
      "c1 = a.__getitem__([1,2])\n",
      "c1.__setitem__(slice(None, None, None), 100)  # [:] translates into slice(None, None, None)"
     ],
     "language": "python",
     "metadata": {},
     "outputs": []
    },
    {
     "cell_type": "markdown",
     "metadata": {},
     "source": [
      "i.e. a new object with a **copy** (remember, fancy indexing does not\n",
      "return views) of some elements of is created and returned prior to call\n",
      ".\n",
      "\n",
      "The rule of thumb here can be: in the context of **lvalue indexing**\n",
      "(i.e. the indices are placed in the left hand side value of an\n",
      "assignment), no view or copy of the array is created (because there is\n",
      "no need to). However, with regular values, the above rules for creating\n",
      "views does apply.\n",
      "\n",
      "A final exercise\n",
      "----------------\n",
      "\n",
      "Finally, let's put a somewhat advanced problem. The next snippet works\n",
      "as expected:"
     ]
    },
    {
     "cell_type": "code",
     "collapsed": false,
     "input": [
      ">>> a = numpy.arange(12).reshape(3,4)\n",
      ">>> ifancy = [0,2]\n",
      ">>> islice = slice(0,3,2)\n",
      ">>> a[islice, :][:, ifancy] = 100\n",
      ">>> a\n",
      "array([[100,   1, 100,   3],\n",
      "       [  4,   5,   6,   7],\n",
      "       [100,   9, 100,  11]])"
     ],
     "language": "python",
     "metadata": {},
     "outputs": []
    },
    {
     "cell_type": "markdown",
     "metadata": {},
     "source": [
      "but the next one does not:"
     ]
    },
    {
     "cell_type": "code",
     "collapsed": false,
     "input": [
      ">>> a = numpy.arange(12).reshape(3,4)\n",
      ">>> ifancy = [0,2]\n",
      ">>> islice = slice(0,3,2)\n",
      ">>> a[ifancy, :][:, islice] = 100  # note that ifancy and islice are interchanged here\n",
      ">>> a\n",
      "array([[ 0,  1,  2,  3],\n",
      "       [ 4,  5,  6,  7],\n",
      "       [ 8,  9, 10, 11]])"
     ],
     "language": "python",
     "metadata": {},
     "outputs": []
    }
   ],
   "metadata": {}
  }
 ]
}