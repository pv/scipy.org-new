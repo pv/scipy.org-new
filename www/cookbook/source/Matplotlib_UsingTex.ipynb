{
 "metadata": {},
 "nbformat": 3,
 "nbformat_minor": 0,
 "worksheets": [
  {
   "cells": [
    {
     "cell_type": "markdown",
     "metadata": {},
     "source": [
      "Matplotlib: using tex\n",
      "======================================================================\n",
      "\n",
      "Matplotlib can use LaTeX to handle the text layout in your figures. This\n",
      "option (which is still somewhat experimental) can be activated by\n",
      "setting text.usetex : true in your rc settings. Text handling with\n",
      "matplotlib's LaTeX support is slower than standard text handling, but is\n",
      "more flexible, and produces publication-quality plots. The results are\n",
      "striking, especially when you take care to use the same fonts in your\n",
      "figures as in the main document.\n",
      "\n",
      "Matplotlib's LaTeX support is still under development, although at least\n",
      "two individuals have relied upon it to generate the figures for their\n",
      "doctoral dissertations. Many improvements have been made beginning with\n",
      "matplotlib-0.87, please update matplotlib if you have an earlier\n",
      "version. This option requires a working LaTeX installation,\n",
      "[dvipng](http://sourceforge.net/projects/dvipng) (which may be included\n",
      "with your TeX installation), and ghostscript ([AFPL,\n",
      "GPL](http://www.cs.wisc.edu/~ghost/), or\n",
      "[ESP](http://www.cups.org/espgs/index.php) ghostscript should all work,\n",
      "but GPL ghostscript-8.60 or later is recommended). The executables for\n",
      "these external dependencies must be located on your PATH.\n",
      "\n",
      "There are a couple of options to mention, which can be changed using rc\n",
      "settings, either using a matplotlibrc file, or the rcParams dict in your\n",
      "program. Here is an example matplotlibrc file:"
     ]
    },
    {
     "cell_type": "code",
     "collapsed": false,
     "input": [
      "font.family        : serif\n",
      "font.serif         : Times, Palatino, New Century Schoolbook, Bookman, Computer Modern Roman\n",
      "font.sans-serif    : Helvetica, Avant Garde, Computer Modern Sans serif\n",
      "font.cursive       : Zapf Chancery\n",
      "font.monospace     : Courier, Computer Modern Typewriter\n",
      "\n",
      "text.usetex        : true"
     ],
     "language": "python",
     "metadata": {},
     "outputs": []
    },
    {
     "cell_type": "markdown",
     "metadata": {},
     "source": [
      "The first valid font in each family is the one that will be loaded. If\n",
      "the fonts are not specified, the Computer Modern fonts are used by\n",
      "default. All of the other fonts are Adobe fonts. Times and Palatino each\n",
      "have their own accompanying math fonts, while the other Adobe serif\n",
      "fonts make use of the Computer Modern math fonts. See\n",
      "[psnfss2e.pdf](http://www.ctan.org/tex-archive/macros/latex/required/psnfss/psnfss2e.pdf)\n",
      "for more details.\n",
      "\n",
      "To use tex and select e.g. Helvetica as the default font, without\n",
      "edititing matplotlibrc use:"
     ]
    },
    {
     "cell_type": "code",
     "collapsed": false,
     "input": [
      "#!python\n",
      "from matplotlib import rc\n",
      "rc('font',**{'family':'sans-serif','sans-serif':['Helvetica']})\n",
      "## for Palatino and other serif fonts use:\n",
      "#rc('font',**{'family':'serif','serif':['Palatino']})\n",
      "rc('text', usetex=True)"
     ],
     "language": "python",
     "metadata": {},
     "outputs": []
    },
    {
     "cell_type": "markdown",
     "metadata": {},
     "source": [
      "**N.B.** You need to do this *before* you import \\`matplotlib.pylab\\`.\n",
      "\n",
      "Here is the standard example, tex\\_demo.py:"
     ]
    },
    {
     "cell_type": "code",
     "collapsed": false,
     "input": [
      "from matplotlib import rc\n",
      "from matplotlib.numerix import arange, cos, pi\n",
      "from pylab import figure, axes, plot, xlabel, ylabel, title, grid, savefig, show\n",
      "\n",
      "rc('text', usetex=True)\n",
      "figure(1)\n",
      "ax = axes([0.1, 0.1, 0.8, 0.7])\n",
      "t = arange(0.0, 1.0+0.01, 0.01)\n",
      "s = cos(2*2*pi*t)+2\n",
      "plot(t, s)\n",
      "\n",
      "xlabel(r'\\textbf{time (s)}')\n",
      "ylabel(r'\\textit{voltage (mV)}',fontsize=16)\n",
      "title(r\"\\TeX\\ is Number $\\displaystyle\\sum_{n=1}^\\infty\\frac{-e^{i\\pi}}{2^n}$!\", fontsize=16, color='r')\n",
      "grid(True)\n",
      "savefig('tex_demo')\n",
      "\n",
      "show()"
     ],
     "language": "python",
     "metadata": {},
     "outputs": []
    }
   ],
   "metadata": {}
  }
 ]
}