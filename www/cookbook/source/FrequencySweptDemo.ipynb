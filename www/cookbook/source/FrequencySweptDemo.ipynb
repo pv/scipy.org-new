{
 "metadata": {},
 "nbformat": 3,
 "nbformat_minor": 0,
 "worksheets": [
  {
   "cells": [
    {
     "cell_type": "markdown",
     "metadata": {},
     "source": [
      "Frequency swept signals\n",
      "======================================================================\n",
      "\n",
      "This page demonstrates two functions in scipy.signal for generating\n",
      "frequency-swept signals: \\`chirp\\` and \\`sweep\\_poly\\`.\n",
      "\n",
      "Some of these require SciPy 0.8.\n",
      "\n",
      "To run the code samples, you will need the following imports:"
     ]
    },
    {
     "cell_type": "code",
     "collapsed": false,
     "input": [
      "    import numpy as np\n",
      "    from scipy.signal import chirp, sweep_poly"
     ],
     "language": "python",
     "metadata": {},
     "outputs": []
    },
    {
     "cell_type": "markdown",
     "metadata": {},
     "source": [
      "Linear Chirp\n",
      "============\n",
      "\n",
      "Sample code:"
     ]
    },
    {
     "cell_type": "code",
     "collapsed": false,
     "input": [
      "    t = np.linspace(0, 10, 5001)\n",
      "    w = chirp(t, f0=12.5, f1=2.5, t1=10, method='linear')"
     ],
     "language": "python",
     "metadata": {},
     "outputs": []
    },
    {
     "cell_type": "markdown",
     "metadata": {},
     "source": [
      "![](files/FrequencySweptDemo_attachments/chirp_linear.png)\n",
      "\n",
      "Quadratic Chirp\n",
      "===============\n",
      "\n",
      "Sample code:"
     ]
    },
    {
     "cell_type": "code",
     "collapsed": false,
     "input": [
      "    t = np.linspace(0, 10, 5001)\n",
      "    w = chirp(t, f0=12.5, f1=2.5, t1=10, method='quadratic')"
     ],
     "language": "python",
     "metadata": {},
     "outputs": []
    },
    {
     "cell_type": "markdown",
     "metadata": {},
     "source": [
      "![](files/FrequencySweptDemo_attachments/chirp_quadratic.png)\n",
      "\n",
      "Sample code using \\`vertex\\_zero\\`:"
     ]
    },
    {
     "cell_type": "code",
     "collapsed": false,
     "input": [
      "    t = np.linspace(0, 10, 5001)\n",
      "    w = chirp(t, f0=12.5, f1=2.5, t1=10, method='quadratic', vertex_zero=False)"
     ],
     "language": "python",
     "metadata": {},
     "outputs": []
    },
    {
     "cell_type": "markdown",
     "metadata": {},
     "source": [
      "![](files/FrequencySweptDemo_attachments/chirp_quadratic_v0false.png)\n",
      "\n",
      "Logarithmic Chirp\n",
      "=================\n",
      "\n",
      "Sample code:"
     ]
    },
    {
     "cell_type": "code",
     "collapsed": false,
     "input": [
      "    t = np.linspace(0, 10, 5001)\n",
      "    w = chirp(t, f0=12.5, f1=2.5, t1=10, method='logarithmic')"
     ],
     "language": "python",
     "metadata": {},
     "outputs": []
    },
    {
     "cell_type": "markdown",
     "metadata": {},
     "source": [
      "![](files/FrequencySweptDemo_attachments/chirp_logarithmic.png)\n",
      "\n",
      "Hyperbolic Chirp\n",
      "================\n",
      "\n",
      "Sample code:"
     ]
    },
    {
     "cell_type": "code",
     "collapsed": false,
     "input": [
      "    t = np.linspace(0, 10, 5001)\n",
      "    w = chirp(t, f0=12.5, f1=2.5, t1=10, method='hyperbolic')"
     ],
     "language": "python",
     "metadata": {},
     "outputs": []
    },
    {
     "cell_type": "markdown",
     "metadata": {},
     "source": [
      "![](files/FrequencySweptDemo_attachments/chirp_hyperbolic.png)\n",
      "\n",
      "Sweep Poly\n",
      "==========\n",
      "\n",
      "Sample code:"
     ]
    },
    {
     "cell_type": "code",
     "collapsed": false,
     "input": [
      "    p = poly1d([0.05, -0.75, 2.5, 5.0])\n",
      "    t = np.linspace(0, 10, 5001)\n",
      "    w = sweep_poly(t, p)"
     ],
     "language": "python",
     "metadata": {},
     "outputs": []
    }
   ],
   "metadata": {}
  }
 ]
}