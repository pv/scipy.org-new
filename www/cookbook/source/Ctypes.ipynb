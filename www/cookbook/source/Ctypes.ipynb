{
 "metadata": {},
 "nbformat": 3,
 "nbformat_minor": 0,
 "worksheets": [
  {
   "cells": [
    {
     "cell_type": "markdown",
     "metadata": {},
     "source": [
      "Ctypes\n",
      "======================================================================\n",
      "\n",
      "Introduction\n",
      "------------\n",
      "\n",
      "[ctypes](http://starship.python.net/crew/theller/ctypes/) is an advanced\n",
      "Foreign Function Interface package for Python 2.3 and higher. It is\n",
      "included in the standard library for Python 2.5.\n",
      "\n",
      "ctypes allows to call functions exposed from DLLs/shared libraries and\n",
      "has extensive facilities to create, access and manipulate simple and\n",
      "complicated C data types in Python - in other words: wrap libraries in\n",
      "pure Python. It is even possible to implement C callback functions in\n",
      "pure Python.\n",
      "\n",
      "ctypes also includes a code generator tool chain which allows automatic\n",
      "creation of library wrappers from C header files. ctypes works on\n",
      "Windows, Mac OS X, Linux, Solaris, FreeBSD, OpenBSD and other systems.\n",
      "\n",
      "**Ensure that you have at least ctypes version 1.0.1 or later.**\n",
      "\n",
      "Other possibilities to call or run C code in python include:\n",
      "[SWIG](http://www.scipy.org/Cookbook/SWIG_and_NumPy),\n",
      "[Cython](http://wiki.cython.org/tutorials/numpy), [\"Weave\"], etc\n",
      "\n",
      "Getting Started with ctypes\n",
      "---------------------------\n",
      "\n",
      "The [ctypes\n",
      "tutorial](http://starship.python.net/crew/theller/ctypes/tutorial.html)\n",
      "and the [ctypes documentation for\n",
      "Python](http://docs.python.org/lib/module-ctypes.html) provide extensive\n",
      "information on getting started with ctypes.\n",
      "\n",
      "Assuming you've built a library called \\`foo.dll\\` or \\`libfoo.so\\`\n",
      "containing a function called \\`bar\\` that takes a pointer to a buffer of\n",
      "doubles and an int as arguments and returns an int, the following code\n",
      "should get you up and running. The following sections cover some\n",
      "possible build scripts, C code and Python code.\n",
      "\n",
      "If you would like to build your DLL/shared library with distutils, take\n",
      "a look at the !SharedLibrary distutils extension included with\n",
      "[OOF2](http://www.ctcms.nist.gov/oof/oof2/index.html). This should\n",
      "probably be included in numpy.distutils at some point.\n",
      "\n",
      "### Nmake Makefile (Windows)\n",
      "\n",
      "Run nmake inside the Visual Studio Command Prompt to build with the\n",
      "following file.\n",
      "\n",
      "You should be able to build the DLL with any version of the Visual\n",
      "Studio compiler regardless of the compiler used to compile Python. Keep\n",
      "in mind that you shouldn't allocate/deallocate memory across different\n",
      "debug/release and single-threaded/multi-threaded runtimes or operate on\n",
      "FILE\\*s from different runtimes."
     ]
    },
    {
     "cell_type": "code",
     "collapsed": false,
     "input": [
      "CXX = cl.exe\n",
      "LINK = link.exe\n",
      "\n",
      "CPPFLAGS = -D_WIN32 -D_USRDLL -DFOO_DLL -DFOO_EXPORTS\n",
      "CXXFLAGSALL = -nologo -EHsc -GS -W3 -Wp64 $(CPPFLAGS)\n",
      "CXXFLAGSDBG = -MDd -Od -Z7 -RTCcsu\n",
      "CXXFLAGSOPT = -MD -O2\n",
      "#CXXFLAGS = $(CXXFLAGSALL) $(CXXFLAGSDBG)\n",
      "CXXFLAGS = $(CXXFLAGSALL) $(CXXFLAGSOPT)\n",
      "\n",
      "LINKFLAGSALL = /nologo /DLL\n",
      "LINKFLAGSDBG = /DEBUG\n",
      "LINKFLAGSOPT =\n",
      "#LINKFLAGS = $(LINKFLAGSALL) $(LINKFLAGSDBG)\n",
      "LINKFLAGS = $(LINKFLAGSALL) $(LINKFLAGSOPT)\n",
      "\n",
      "all: foo.dll\n",
      "\n",
      "foo.dll: foo.obj\n",
      "    $(LINK) $(LINKFLAGS) foo.obj /OUT:foo.dll\n",
      "\n",
      "svm.obj: svm.cpp svm.h\n",
      "    $(CXX) $(CXXFLAGS) -c foo.cpp\n",
      "\n",
      "clean:\n",
      "    -erase /Q *.obj *.dll *.exp *.lib"
     ],
     "language": "python",
     "metadata": {},
     "outputs": []
    },
    {
     "cell_type": "markdown",
     "metadata": {},
     "source": [
      "### SConstruct (GCC)\n",
      "\n",
      "You can use the following file with [SCons](http://www.scons.org) to\n",
      "build a shared library."
     ]
    },
    {
     "cell_type": "code",
     "collapsed": false,
     "input": [
      "env = Environment()\n",
      "env.Replace(CFLAGS=['-O2','-Wall','-ansi','-pedantic'])\n",
      "env.SharedLibrary('foo', ['foo.cpp'])"
     ],
     "language": "python",
     "metadata": {},
     "outputs": []
    },
    {
     "cell_type": "markdown",
     "metadata": {},
     "source": [
      "### foo.cpp"
     ]
    },
    {
     "cell_type": "code",
     "collapsed": false,
     "input": [
      "#include <stdio.h>\n",
      "\n",
      "#ifdef FOO_DLL\n",
      "#ifdef FOO_EXPORTS\n",
      "#define FOO_API __declspec(dllexport)\n",
      "#else\n",
      "#define FOO_API __declspec(dllimport)\n",
      "#endif /* FOO_EXPORTS */\n",
      "#else\n",
      "#define FOO_API extern /* XXX confirm this */\n",
      "#endif /* FOO_DLL */\n",
      "\n",
      "#ifdef __cplusplus\n",
      "extern \"C\" {\n",
      "#endif\n",
      "\n",
      "extern FOO_API int bar(double* data, int len) {\n",
      "   int i;\n",
      "   printf(\"data = %p\\n\", (void*) data);\n",
      "   for (i = 0; i < len; i++) {\n",
      "      printf(\"data[%d] = %f\\n\", i, data[i]);\n",
      "   }\n",
      "   printf(\"len = %d\\n\", len);\n",
      "   return len + 1;\n",
      "}\n",
      "\n",
      "#ifdef __cplusplus\n",
      "}\n",
      "#endif"
     ],
     "language": "python",
     "metadata": {},
     "outputs": []
    },
    {
     "cell_type": "markdown",
     "metadata": {},
     "source": [
      "When building the DLL for foo on Windows, define \\`FOO\\_DLL\\` and\n",
      "\\`FOO\\_EXPORTS\\` (this is what you want to do when building a DLL for\n",
      "use with ctypes). When linking against the DLL, define \\`FOO\\_DLL\\`.\n",
      "When linking against a static library that contains foo, or when\n",
      "including foo in an executable, don't define anything.\n",
      "\n",
      "If you're unclear about what is for, read\n",
      "[<http://www.tldp.org/HOWTO/C>++-dlopen/thesolution.html section 3 of\n",
      "the C++ dlopen mini HOWTO]. This allows you to write function wrappers\n",
      "with C linkage on top of a bunch of C++ classes so that you can use them\n",
      "with ctypes. Alternatively, you might prefer to write C code.\n",
      "\n",
      "### foo.py"
     ]
    },
    {
     "cell_type": "code",
     "collapsed": false,
     "input": [
      "import numpy as N\n",
      "import ctypes as C\n",
      "_foo = N.ctypeslib.load_library('libfoo', '.')\n",
      "_foo.bar.restype = C.c_int\n",
      "_foo.bar.argtypes = [C.POINTER(C.c_double), C.c_int]\n",
      "def bar(x):\n",
      "    return _foo.bar(x.ctypes.data_as(C.POINTER(C.c_double)), len(x))\n",
      "x = N.random.randn(10)\n",
      "n = bar(x)"
     ],
     "language": "python",
     "metadata": {},
     "outputs": []
    },
    {
     "cell_type": "markdown",
     "metadata": {},
     "source": [
      "NumPy arrays' ctypes property\n",
      "-----------------------------\n",
      "\n",
      "A ctypes property was recently added to NumPy arrays:"
     ]
    },
    {
     "cell_type": "code",
     "collapsed": false,
     "input": [
      "In [18]: x = N.random.randn(2,3,4)\n",
      "\n",
      "In [19]: x.ctypes.data\n",
      "Out[19]: c_void_p(14394256)\n",
      "\n",
      "In [21]: x.ctypes.data_as(ctypes.POINTER(c_double))\n",
      "\n",
      "In [24]: x.ctypes.shape\n",
      "Out[24]: <ctypes._endian.c_long_Array_3 object at 0x00DEF2B0>\n",
      "\n",
      "In [25]: x.ctypes.shape[:3]\n",
      "Out[25]: [2, 3, 4]\n",
      "\n",
      "In [26]: x.ctypes.strides\n",
      "Out[26]: <ctypes._endian.c_long_Array_3 object at 0x00DEF300>\n",
      "\n",
      "In [27]: x.ctypes.strides[:3]\n",
      "Out[27]: [96, 32, 8]"
     ],
     "language": "python",
     "metadata": {},
     "outputs": []
    },
    {
     "cell_type": "markdown",
     "metadata": {},
     "source": [
      "In general, a C function might take a pointer to the array's data, an\n",
      "integer indicating the number of array dimensions, (pass the value of\n",
      "the ndim property here) and two int pointers to the shapes and stride\n",
      "information.\n",
      "\n",
      "If your C function assumes contiguous storage, you might want to wrap it\n",
      "with a Python function that calls !NumPy's \\`ascontiguousarray\\`\n",
      "function on all the input arrays.\n",
      "\n",
      "NumPy's ndpointer with ctypes argtypes\n",
      "--------------------------------------\n",
      "\n",
      "Starting with ctypes 0.9.9.9, any class implementing the from\\_param\n",
      "method can be used in the argtypes list of a function. Before ctypes\n",
      "calls a C function, it uses the argtypes list to check each parameter.\n",
      "\n",
      "Using !NumPy's ndpointer function, some very useful argtypes classes can\n",
      "be constructed, for example:"
     ]
    },
    {
     "cell_type": "code",
     "collapsed": false,
     "input": [
      "from numpy.ctypeslib import ndpointer\n",
      "arg1 = ndpointer(dtype='<f4')\n",
      "arg2 = ndpointer(ndim=2)\n",
      "arg3 = ndpointer(shape=(10,10))\n",
      "arg4 = ndpointer(flags='CONTIGUOUS,ALIGNED')\n",
      "# or any combination of the above\n",
      "arg5 = ndpointer(dtype='>i4', flags='CONTIGUOUS')\n",
      "func.argtypes = [arg1,arg2,arg3,arg4,arg5]"
     ],
     "language": "python",
     "metadata": {},
     "outputs": []
    },
    {
     "cell_type": "markdown",
     "metadata": {},
     "source": [
      "Now, if an argument doesn't meet the requirements, a !TypeError is\n",
      "raised. This allows one to make sure that arrays passed to the C\n",
      "function is in a form that the function can handle.\n",
      "\n",
      "See also the mailing list thread on [ctypes and\n",
      "ndpointer](http://thread.gmane.org/gmane.comp.python.numeric.general/7418/focus=7418).\n",
      "\n",
      "Dynamic allocation through callbacks\n",
      "------------------------------------\n",
      "\n",
      "ctypes supports the idea of\n",
      "[callbacks](http://docs.python.org/lib/ctypes-callback-functions.html),\n",
      "allowing C code to call back into Python through a function pointer.\n",
      "This is possible because ctypes releases the Python Global Interpreter\n",
      "Lock (GIL) before calling the C function.\n",
      "\n",
      "We can use this feature to allocate !NumPy arrays if and when we need a\n",
      "buffer for C code to operate on. This could avoid having to copy data in\n",
      "certain cases. You also don't have to worry about freeing the C data\n",
      "after you're done with it. By allocating your buffers as !NumPy arrays,\n",
      "the Python garbage collector can take care of this.\n",
      "\n",
      "Python code:"
     ]
    },
    {
     "cell_type": "code",
     "collapsed": false,
     "input": [
      "from ctypes import *\n",
      "ALLOCATOR = CFUNCTYPE(c_long, c_int, POINTER(c_int))\n",
      "# load your library as lib\n",
      "lib.baz.restype = None\n",
      "lib.baz.argtypes = [c_float, c_int, ALLOCATOR]"
     ],
     "language": "python",
     "metadata": {},
     "outputs": []
    },
    {
     "cell_type": "markdown",
     "metadata": {},
     "source": [
      "This isn't the prettiest way to define the allocator (I'm also not sure\n",
      "if c\\_long is the right return type), but there are a few bugs in ctypes\n",
      "that seem to make this the only way at present. Eventually, we'd like to\n",
      "write the allocator like this (but it doesn't work yet):"
     ]
    },
    {
     "cell_type": "code",
     "collapsed": false,
     "input": [
      "from numpy.ctypeslib import ndpointer\n",
      "ALLOCATOR = CFUNCTYPE(ndpointer('f4'), c_int, POINTER(c_int))"
     ],
     "language": "python",
     "metadata": {},
     "outputs": []
    },
    {
     "cell_type": "markdown",
     "metadata": {},
     "source": [
      "The following also seems to cause problems:"
     ]
    },
    {
     "cell_type": "code",
     "collapsed": false,
     "input": [
      "ALLOCATOR = CFUNCTYPE(POINTER(c_float), c_int, POINTER(c_int))\n",
      "ALLOCATOR = CFUNCTYPE(c_void_p, c_int, POINTER(c_int))\n",
      "ALLOCATOR = CFUNCTYPE(None, c_int, POINTER(c_int), POINTER(c_void_p))"
     ],
     "language": "python",
     "metadata": {},
     "outputs": []
    },
    {
     "cell_type": "markdown",
     "metadata": {},
     "source": [
      "Possible failures include a !SystemError exception being raised, the\n",
      "interpreter crashing or the interpreter hanging. Check these mailing\n",
      "list threads for more details: \\* [Pointer-to-pointer unchanged when\n",
      "assigning in\n",
      "callback](http://thread.gmane.org/gmane.comp.python.ctypes/2979) \\*\n",
      "[Hang with callback returning\n",
      "POINTER(c\\_float)](http://thread.gmane.org/gmane.comp.python.ctypes/2974)\n",
      "\\* [Error with callback function and as\\_parameter with NumPy\n",
      "ndpointer](http://thread.gmane.org/gmane.comp.python.ctypes/2972)\n",
      "\n",
      "Time for an example. The C code for the example:"
     ]
    },
    {
     "cell_type": "code",
     "collapsed": false,
     "input": [
      "#ifndef CSPKREC_H\n",
      "#define CSPKREC_H\n",
      "#ifdef FOO_DLL\n",
      "#ifdef FOO_EXPORTS\n",
      "#define FOO_API __declspec(dllexport)\n",
      "#else\n",
      "#define FOO_API __declspec(dllimport)\n",
      "#endif\n",
      "#else\n",
      "#define FOO_API\n",
      "#endif\n",
      "#endif\n",
      "#include <stdio.h>\n",
      "#ifdef __cplusplus\n",
      "extern \"C\" {\n",
      "#endif\n",
      "\n",
      "typedef void*(*allocator_t)(int, int*);\n",
      "\n",
      "extern FOO_API void foo(allocator_t allocator) {\n",
      "   int dim = 2;\n",
      "   int shape[] = {2, 3};\n",
      "   float* data = NULL;\n",
      "   int i, j;\n",
      "   printf(\"foo calling allocator\\n\");\n",
      "   data = (float*) allocator(dim, shape);\n",
      "   printf(\"allocator returned in foo\\n\");\n",
      "   printf(\"data = 0x%p\\n\", data);\n",
      "   for (i = 0; i < shape[0]; i++) {\n",
      "      for (j = 0; j < shape[1]; j++) {\n",
      "         *data++ = (i + 1) * (j + 1);\n",
      "      }\n",
      "   }\n",
      "}\n",
      "\n",
      "#ifdef __cplusplus\n",
      "}\n",
      "#endif"
     ],
     "language": "python",
     "metadata": {},
     "outputs": []
    },
    {
     "cell_type": "markdown",
     "metadata": {},
     "source": [
      "Check the [The Function Pointer\n",
      "Tutorials](http://www.newty.de/fpt/index.html) if you're new to function\n",
      "pointers in C or C++. And the Python code:"
     ]
    },
    {
     "cell_type": "code",
     "collapsed": false,
     "input": [
      "from ctypes import *\n",
      "import numpy as N\n",
      "\n",
      "allocated_arrays = []\n",
      "def allocate(dim, shape):\n",
      "    print 'allocate called'\n",
      "    x = N.zeros(shape[:dim], 'f4')\n",
      "    allocated_arrays.append(x)\n",
      "    ptr = x.ctypes.data_as(c_void_p).value\n",
      "    print hex(ptr)\n",
      "    print 'allocate returning'\n",
      "    return ptr\n",
      "\n",
      "lib = cdll['callback.dll']\n",
      "lib.foo.restype = None\n",
      "ALLOCATOR = CFUNCTYPE(c_long, c_int, POINTER(c_int))\n",
      "lib.foo.argtypes = [ALLOCATOR]\n",
      "\n",
      "print 'calling foo'\n",
      "lib.foo(ALLOCATOR(allocate))\n",
      "print 'foo returned'\n",
      "\n",
      "print allocated_arrays[0]"
     ],
     "language": "python",
     "metadata": {},
     "outputs": []
    },
    {
     "cell_type": "markdown",
     "metadata": {},
     "source": [
      "The allocate function creates a new !NumPy array and puts it in a list\n",
      "so that we keep a reference to it after the callback function returns.\n",
      "Expected output:"
     ]
    },
    {
     "cell_type": "code",
     "collapsed": false,
     "input": [
      "calling foo\n",
      "foo calling allocator\n",
      "allocate called\n",
      "0xaf5778\n",
      "allocate returning\n",
      "allocator returned in foo\n",
      "data = 0x00AF5778\n",
      "foo returned\n",
      "[[ 1.  2.  3.]\n",
      " [ 2.  4.  6.]]"
     ],
     "language": "python",
     "metadata": {},
     "outputs": []
    },
    {
     "cell_type": "markdown",
     "metadata": {},
     "source": [
      "Here's another idea for an Allocator class to manage this kind of thing.\n",
      "In addition to dimension and shape, this allocator function takes a char\n",
      "indicating what type of array to allocate. You can get these typecodes\n",
      "from the ndarrayobject.h header, in the \\`NPY\\_TYPECHAR\\` enum."
     ]
    },
    {
     "cell_type": "code",
     "collapsed": false,
     "input": [
      "from ctypes import *\n",
      "import numpy as N\n",
      "\n",
      "class Allocator:\n",
      "    CFUNCTYPE = CFUNCTYPE(c_long, c_int, POINTER(c_int), c_char)\n",
      "\n",
      "    def __init__(self):\n",
      "        self.allocated_arrays = []\n",
      "\n",
      "    def __call__(self, dims, shape, dtype):\n",
      "        x = N.empty(shape[:dims], N.dtype(dtype))\n",
      "        self.allocated_arrays.append(x)\n",
      "        return x.ctypes.data_as(c_void_p).value\n",
      "\n",
      "    def getcfunc(self):\n",
      "        return self.CFUNCTYPE(self)\n",
      "    cfunc = property(getcfunc)"
     ],
     "language": "python",
     "metadata": {},
     "outputs": []
    },
    {
     "cell_type": "markdown",
     "metadata": {},
     "source": [
      "Use it like this in Python:"
     ]
    },
    {
     "cell_type": "code",
     "collapsed": false,
     "input": [
      "lib.func.argtypes = [..., Allocator.CFUNCTYPE]\n",
      "def func():\n",
      "    alloc = Allocator()\n",
      "    lib.func(..., alloc.cfunc)\n",
      "    return tuple(alloc.allocated_arrays[:3])"
     ],
     "language": "python",
     "metadata": {},
     "outputs": []
    },
    {
     "cell_type": "markdown",
     "metadata": {},
     "source": [
      "Corresponding C code:"
     ]
    },
    {
     "cell_type": "code",
     "collapsed": false,
     "input": [
      "typedef void*(*allocator_t)(int, int*, char);\n",
      "\n",
      "void func(..., allocator_t allocator) {\n",
      "   /* ... */\n",
      "   int dims[] = {2, 3, 4};\n",
      "   double* data = (double*) allocator(3, dims, 'd');\n",
      "   /* allocate more arrays here */\n",
      "}"
     ],
     "language": "python",
     "metadata": {},
     "outputs": []
    },
    {
     "cell_type": "markdown",
     "metadata": {},
     "source": [
      "None of the allocators presented above are thread safe. If you have\n",
      "multiple Python threads calling the C code that invokes your callbacks,\n",
      "you will have to do something a bit smarter.\n",
      "\n",
      "More useful code frags\n",
      "----------------------\n",
      "\n",
      "Suppose you have a C function like the following, which operates on a\n",
      "pointer-to-pointers data structure."
     ]
    },
    {
     "cell_type": "code",
     "collapsed": false,
     "input": [
      "void foo(float** data, int len) {\n",
      "    float** x = data;\n",
      "    for (int i = 0; i < len; i++, x++) {\n",
      "        /* do something with *x */\n",
      "    }\n",
      "}"
     ],
     "language": "python",
     "metadata": {},
     "outputs": []
    },
    {
     "cell_type": "markdown",
     "metadata": {},
     "source": [
      "You can create the necessary structure from an existing 2-D !NumPy array\n",
      "using the following code:"
     ]
    },
    {
     "cell_type": "code",
     "collapsed": false,
     "input": [
      "x = N.array([[10,20,30], [40,50,60], [80,90,100]], 'f4')\n",
      "f4ptr = POINTER(c_float)\n",
      "data = (f4ptr*len(x))(*[row.ctypes.data_as(f4ptr) for row in x])"
     ],
     "language": "python",
     "metadata": {},
     "outputs": []
    },
    {
     "cell_type": "markdown",
     "metadata": {},
     "source": [
      "\\`f4ptr\\*len(x)\\` creates a ctypes array type that is just large enough\n",
      "to contain a pointer to every row of the array.\n",
      "\n",
      "Heterogeneous Types Example\n",
      "---------------------------\n",
      "\n",
      "Here's a simple example when using heterogeneous dtypes (record arrays).\n",
      "\n",
      "But, be warned that NumPy recarrays and corresponding structs in C\n",
      "***may not*** be congruent.\n",
      "\n",
      "Also structs are not standardized across platforms ...In other words,\n",
      "**'' be aware of padding issues!**''\n",
      "\n",
      "sample.c"
     ]
    },
    {
     "cell_type": "code",
     "collapsed": false,
     "input": [
      "#include <stdio.h>\n",
      "\n",
      "typedef struct Weather_t {\n",
      "    int timestamp;\n",
      "    char desc[12];\n",
      "} Weather;\n",
      "\n",
      "void print_weather(Weather* w, int nelems)\n",
      "{\n",
      "    int i;\n",
      "    for (i=0;i<nelems;++i) {\n",
      "        printf(\"timestamp: %d\\ndescription: %s\\n\\n\", w[i].timestamp, w[i].desc);\n",
      "    }\n",
      "}"
     ],
     "language": "python",
     "metadata": {},
     "outputs": []
    },
    {
     "cell_type": "markdown",
     "metadata": {},
     "source": [
      "SConstruct"
     ]
    },
    {
     "cell_type": "code",
     "collapsed": false,
     "input": [
      "env = Environment()\n",
      "env.Replace(CFLAGS=['-O2','-Wall','-ansi','-pedantic'])\n",
      "env.SharedLibrary('sample', ['sample.c'])"
     ],
     "language": "python",
     "metadata": {},
     "outputs": []
    },
    {
     "cell_type": "markdown",
     "metadata": {},
     "source": [
      "sample.py"
     ]
    },
    {
     "cell_type": "code",
     "collapsed": false,
     "input": [
      "import numpy as N\n",
      "import ctypes as C\n",
      "\n",
      "dat = [[1126877361,'sunny'], [1126877371,'rain'], [1126877385,'damn nasty'], [1126877387,'sunny']]\n",
      "\n",
      "dat_dtype = N.dtype([('timestamp','i4'),('desc','|S12')])\n",
      "arr = N.rec.fromrecords(dat,dtype=dat_dtype)\n",
      "\n",
      "_sample = N.ctypeslib.load_library('libsample','.')\n",
      "_sample.print_weather.restype = None\n",
      "_sample.print_weather.argtypes = [N.ctypeslib.ndpointer(dat_dtype, flags='aligned, contiguous'), C.c_int]\n",
      "\n",
      "\n",
      "def print_weather(x):\n",
      "    _sample.print_weather(x, x.size)\n",
      "\n",
      "\n",
      "\n",
      "if __name__=='__main__':\n",
      "    print_weather(arr)"
     ],
     "language": "python",
     "metadata": {},
     "outputs": []
    },
    {
     "cell_type": "markdown",
     "metadata": {},
     "source": [
      "Fibonacci example (using NumPy arrays, C and Scons)\n",
      "---------------------------------------------------\n",
      "\n",
      "The following was tested and works on Windows (using MinGW) and\n",
      "GNU/Linux 32-bit OSs (last tested 13-08-2009). Copy all three files to\n",
      "the same directory.\n",
      "\n",
      "The C code (this calculates the Fibonacci number recursively):"
     ]
    },
    {
     "cell_type": "code",
     "collapsed": false,
     "input": [
      "/*\n",
      "    Filename: fibonacci.c\n",
      "    To be used with fibonacci.py, as an imported library. Use Scons to compile,\n",
      "    simply type 'scons' in the same directory as this file (see www.scons.org).\n",
      "*/\n",
      "\n",
      "/* Function prototypes */\n",
      "int fib(int a);\n",
      "void fibseries(int *a, int elements, int *series);\n",
      "void fibmatrix(int *a, int rows, int columns, int *matrix);\n",
      "\n",
      "int fib(int a)\n",
      "{\n",
      "    if (a <= 0) /*  Error -- wrong input will return -1. */\n",
      "        return -1;\n",
      "    else if (a==1)\n",
      "        return 0;\n",
      "    else if ((a==2)||(a==3))\n",
      "        return 1;\n",
      "    else\n",
      "        return fib(a - 2) + fib(a - 1);\n",
      "}\n",
      "\n",
      "void fibseries(int *a, int elements, int *series)\n",
      "{\n",
      "    int i;\n",
      "    for (i=0; i < elements; i++)\n",
      "    {\n",
      "    series[i] = fib(a[i]);\n",
      "    }\n",
      "}\n",
      "\n",
      "void fibmatrix(int *a, int rows, int columns, int *matrix)\n",
      "{\n",
      "    int i, j;\n",
      "    for (i=0; i<rows; i++)\n",
      "        for (j=0; j<columns; j++)\n",
      "        {\n",
      "            matrix[i * columns + j] = fib(a[i * columns + j]);\n",
      "        }\n",
      "}"
     ],
     "language": "python",
     "metadata": {},
     "outputs": []
    },
    {
     "cell_type": "markdown",
     "metadata": {},
     "source": [
      "The Python code:"
     ]
    },
    {
     "cell_type": "code",
     "collapsed": false,
     "input": [
      "\"\"\"\n",
      "Filename: fibonacci.py\n",
      "Demonstrates the use of ctypes with three functions:\n",
      "\n",
      "    (1) fib(a)\n",
      "    (2) fibseries(b)\n",
      "    (3) fibmatrix(c)\n",
      "\"\"\"\n",
      "\n",
      "import numpy as nm\n",
      "import ctypes as ct\n",
      "\n",
      "# Load the library as _libfibonacci.\n",
      "# Why the underscore (_) in front of _libfibonacci below?\n",
      "# To mimimise namespace pollution -- see PEP 8 (www.python.org).\n",
      "_libfibonacci = nm.ctypeslib.load_library('libfibonacci', '.')\n",
      "\n",
      "_libfibonacci.fib.argtypes = [ct.c_int] #  Declare arg type, same below.\n",
      "_libfibonacci.fib.restype  =  ct.c_int  #  Declare result type, same below.\n",
      "\n",
      "_libfibonacci.fibseries.argtypes = [nm.ctypeslib.ndpointer(dtype = nm.int),\\\n",
      "                                     ct.c_int,\\\n",
      "                                     nm.ctypeslib.ndpointer(dtype = nm.int)]\n",
      "_libfibonacci.fibseries.restype  = ct.c_void_p\n",
      "\n",
      "_libfibonacci.fibmatrix.argtypes = [nm.ctypeslib.ndpointer(dtype = nm.int),\\\n",
      "                                     ct.c_int, ct.c_int,\\\n",
      "                                    nm.ctypeslib.ndpointer(dtype = nm.int)]\n",
      "_libfibonacci.fibmatrix.restype  = ct.c_void_p\n",
      "\n",
      "def fib(a):\n",
      "    \"\"\"Compute the n'th Fibonacci number.\n",
      "\n",
      "    ARGUMENT(S):\n",
      "        An integer.\n",
      "\n",
      "    RESULT(S):\n",
      "        The n'th Fibonacci number.\n",
      "\n",
      "    EXAMPLE(S):\n",
      "    >>> fib(8)\n",
      "    13\n",
      "    >>> fib(23)\n",
      "    17711\n",
      "    >>> fib(0)\n",
      "    -1\n",
      "    \"\"\"\n",
      "    return _libfibonacci.fib(int(a))\n",
      "\n",
      "def fibseries(b):\n",
      "    \"\"\"Compute an array containing the n'th Fibonacci number of each entry.\n",
      "\n",
      "    ARGUMENT(S):\n",
      "        A list or NumPy array (dim = 1) of integers.\n",
      "\n",
      "    RESULT(S):\n",
      "        NumPy array containing the n'th Fibonacci number of each entry.\n",
      "\n",
      "    EXAMPLE(S):\n",
      "    >>> fibseries([1,2,3,4,5,6,7,8])\n",
      "    array([ 0,  1,  1,  2,  3,  5,  8, 13])\n",
      "    >>> fibseries(range(1,12))\n",
      "    array([ 0,  1,  1,  2,  3,  5,  8, 13, 21, 34, 55])\n",
      "    \"\"\"\n",
      "    b = nm.asarray(b, dtype=nm.intc)\n",
      "    result = nm.empty(len(b), dtype=nm.intc)\n",
      "    _libfibonacci.fibseries(b, len(b), result)\n",
      "    return result\n",
      "\n",
      "def fibmatrix(c):\n",
      "    \"\"\"Compute a matrix containing the n'th Fibonacci number of each entry.\n",
      "\n",
      "    ARGUMENT(S):\n",
      "        A nested list or NumPy array (dim = 2) of integers.\n",
      "\n",
      "    RESULT(S):\n",
      "        NumPy array containing the n'th Fibonacci number of each entry.\n",
      "\n",
      "    EXAMPLE(S):\n",
      "    >>> from numpy import array\n",
      "    >>> fibmatrix([[3,4],[5,6]])\n",
      "    array([[1, 2],\n",
      "           [3, 5]])\n",
      "    >>> fibmatrix(array([[1,2,3],[4,5,6],[7,8,9]]))\n",
      "    array([[ 0,  1,  1],\n",
      "           [ 2,  3,  5],\n",
      "           [ 8, 13, 21]])\n",
      "    \"\"\"\n",
      "    tmp = nm.asarray(c)\n",
      "    rows, cols = tmp.shape\n",
      "    c = tmp.astype(nm.intc)\n",
      "    result = nm.empty(c.shape, dtype=nm.intc)\n",
      "    _libfibonacci.fibmatrix(c, rows, cols, result)\n",
      "    return result"
     ],
     "language": "python",
     "metadata": {},
     "outputs": []
    },
    {
     "cell_type": "markdown",
     "metadata": {},
     "source": [
      "Here's the SConstruct file contents (filename: SConstruct):"
     ]
    },
    {
     "cell_type": "code",
     "collapsed": false,
     "input": [
      "env = Environment()\n",
      "env.Replace(CFLAGS=['-O2', '-Wall', '-ansi', '-pedantic'])\n",
      "env.SharedLibrary('libfibonacci', ['fibonacci.c'])"
     ],
     "language": "python",
     "metadata": {},
     "outputs": []
    },
    {
     "cell_type": "markdown",
     "metadata": {},
     "source": [
      "In Python interpreter (or whatever you use), do:"
     ]
    },
    {
     "cell_type": "code",
     "collapsed": false,
     "input": [
      ">>> import fibonacci as fb\n",
      ">>> fb.fib(8)\n",
      "13\n",
      ">>> fb.fibseries([5,13,2,6]\n",
      "array([  3, 144,   1,   5])"
     ],
     "language": "python",
     "metadata": {},
     "outputs": []
    }
   ],
   "metadata": {}
  }
 ]
}