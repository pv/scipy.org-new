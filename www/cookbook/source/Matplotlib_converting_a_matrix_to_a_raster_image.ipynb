{
 "metadata": {},
 "nbformat": 3,
 "nbformat_minor": 0,
 "worksheets": [
  {
   "cells": [
    {
     "cell_type": "markdown",
     "metadata": {},
     "source": [
      "Matplotlib: converting a matrix to a raster image\n",
      "======================================================================\n",
      "\n",
      "Scipy provides a command (imsave) to make a raster (png, jpg...) image\n",
      "from a 2D array, each pixel corresponding to one value of the array. Yet\n",
      "the image is black and white.\n",
      "\n",
      "Here is a recipy to do this with Matplotlib, and use a colormap to give\n",
      "color to the image."
     ]
    },
    {
     "cell_type": "code",
     "collapsed": false,
     "input": [
      "from pylab import *\n",
      "from scipy import mgrid\n",
      "\n",
      "def imsave(filename, X, **kwargs):\n",
      "    \"\"\" Homebrewed imsave to have nice colors... \"\"\"\n",
      "    figsize=(array(X.shape)/100.0)[::-1]\n",
      "    rcParams.update({'figure.figsize':figsize})\n",
      "    fig = figure(figsize=figsize)\n",
      "    axes([0,0,1,1]) # Make the plot occupy the whole canvas\n",
      "    axis('off')\n",
      "    fig.set_size_inches(figsize)\n",
      "    imshow(X,origin='lower', **kwargs)\n",
      "    savefig(filename, facecolor='black', edgecolor='black', dpi=100)\n",
      "    close(fig)\n",
      "\n",
      "\n",
      "X,Y=mgrid[-5:5:0.1,-5:5:0.1]\n",
      "Z=sin(X**2+Y**2+1e-4)/(X**2+Y**2+1e-4) # Create the data to be plotted\n",
      "imsave('imsave.png', Z, cmap=cm.hot )"
     ],
     "language": "python",
     "metadata": {},
     "outputs": []
    }
   ],
   "metadata": {}
  }
 ]
}