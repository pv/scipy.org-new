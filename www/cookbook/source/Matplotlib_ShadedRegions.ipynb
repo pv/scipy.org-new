{
 "metadata": {},
 "nbformat": 3,
 "nbformat_minor": 0,
 "worksheets": [
  {
   "cells": [
    {
     "cell_type": "markdown",
     "metadata": {},
     "source": [
      "Matplotlib: shaded regions\n",
      "======================================================================\n",
      "\n",
      "Use the fill function to make shaded regions of any color tint. Here is\n",
      "an example."
     ]
    },
    {
     "cell_type": "code",
     "collapsed": false,
     "input": [
      "from pylab import *\n",
      "\n",
      "x = arange(10)\n",
      "y = x\n",
      "\n",
      "# Plot junk and then a filled region\n",
      "plot(x, y)\n",
      "\n",
      "# Make a blue box that is somewhat see-through\n",
      "# and has a red border. \n",
      "# WARNING: alpha doesn't work in postscript output.... \n",
      "fill([3,4,4,3], [2,2,4,4], 'b', alpha=0.2, edgecolor='r')"
     ],
     "language": "python",
     "metadata": {},
     "outputs": []
    }
   ],
   "metadata": {}
  }
 ]
}