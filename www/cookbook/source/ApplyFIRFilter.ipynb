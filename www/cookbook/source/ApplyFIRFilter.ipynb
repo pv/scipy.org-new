{
 "metadata": {},
 "nbformat": 3,
 "nbformat_minor": 0,
 "worksheets": [
  {
   "cells": [
    {
     "cell_type": "markdown",
     "metadata": {},
     "source": [
      "Applying a FIR filter\n",
      "======================================================================\n",
      "\n",
      "How to apply a FIR filter: convolve, fftconvolve, convolve1d or lfilter?\n",
      "------------------------------------------------------------------------\n",
      "\n",
      "The following plot shows the time required to apply a finite impulse\n",
      "response (FIR) filter of varying length to a signal of length 131072\n",
      "using several different functions that are available in numpy and scipy.\n",
      "The details of how this figure was created are given below.\n",
      "\n",
      "![](files/ApplyFIRFilter/fir_time_comparison3.png)\n",
      "\n",
      "The Details\n",
      "-----------\n",
      "\n",
      "There are several functions in the numpy and scipy libraries that can be\n",
      "used to apply a [FIR\n",
      "filter](http://en.wikipedia.org/wiki/Finite_impulse_response) to a\n",
      "signal. From scipy.signal, lfilter() is designed to apply a discrete\n",
      "[IIR filter](http://en.wikipedia.org/wiki/Infinite_impulse_response) to\n",
      "a signal, so by simply setting the array of denominator coefficients to\n",
      "[1.0], it can be used to apply a FIR filter. Applying a FIR filter is\n",
      "equivalent to a discrete\n",
      "[convolution](http://en.wikipedia.org/wiki/Convolution), so one can also\n",
      "use convolve() from numpy, convolve() or fftconvolve() from\n",
      "scipy.signal, or convolve1d() from scipy.ndimage. In this page, we\n",
      "demonstrate each of these functions, and we look at how the\n",
      "computational time varies when the data signal size is fixed and the FIR\n",
      "filter length is varied. We'll use a data signal length of 131072, which\n",
      "is 2\\*\\*17. We assume that we have *m* channels of data, so our input\n",
      "signal is an *m* by *n* array.\n",
      "\n",
      "We assume our FIR filter coefficients are in a one-dimensional array\n",
      "*b*. The function numpy.convolve only accepts one-dimensional arrays, so\n",
      "we'll have to use a python loop over our input array to perform the\n",
      "convolution over all the channels. One way to do that is"
     ]
    },
    {
     "cell_type": "code",
     "collapsed": false,
     "input": [
      "    np.array([np.convolve(xi, b, mode='valid') for xi in x])"
     ],
     "language": "python",
     "metadata": {},
     "outputs": []
    },
    {
     "cell_type": "markdown",
     "metadata": {},
     "source": [
      "We use a list comprehension to loop over the rows of *x*, and pass the\n",
      "result to *np.array* to reassemble the filtered data into a\n",
      "two-dimensional array.\n",
      "\n",
      "Both signal.convolve and signal.fftconvolve perform a two-dimensional\n",
      "convolution of two-dimensional arrays. To filter our *m* by *n* array\n",
      "with either of these functions, we shape our filter to be a\n",
      "two-dimensional array, with shape 1 by *len(b)*. The python code looks\n",
      "like this:"
     ]
    },
    {
     "cell_type": "code",
     "collapsed": false,
     "input": [
      "    y = convolve(x, b[np.newaxis, :], mode='valid')"
     ],
     "language": "python",
     "metadata": {},
     "outputs": []
    },
    {
     "cell_type": "markdown",
     "metadata": {},
     "source": [
      "where *x* is a numpy array with shape *(m, n)*, and *b* is the\n",
      "one-dimensional array of FIR filter coefficients. *b[np.newaxis, :]* is\n",
      "the two dimensional view of *b*, with shape 1 by *len(b)*. *y* is the\n",
      "filtered data; it includes only those terms for which the full\n",
      "convolution was computed, so it has shape *(m, n - len(b) + 1)*.\n",
      "\n",
      "ndimage.convolve1d() is designed to do a convolution of a 1d array along\n",
      "the given axis of another n-dimensional array. It does not have the\n",
      "option mode='valid', so to extract the valid part of the result, we\n",
      "slice the result of the function:"
     ]
    },
    {
     "cell_type": "code",
     "collapsed": false,
     "input": [
      "    y = convolve1d(x, b)[:, (len(b)-1)//2 : -(len(b)//2)]"
     ],
     "language": "python",
     "metadata": {},
     "outputs": []
    },
    {
     "cell_type": "markdown",
     "metadata": {},
     "source": [
      "signal.lfilter is designed to filter one-dimensional data. It can take a\n",
      "two-dimensional array (or, in general, an n-dimensional array) and\n",
      "filter the data in any given axis. It can also be used for IIR filters,\n",
      "so in our case, we'll pass in [1.0] for the denominator coefficients. In\n",
      "python, this looks like:"
     ]
    },
    {
     "cell_type": "code",
     "collapsed": false,
     "input": [
      "    y = lfilter(b, [1.0], x)"
     ],
     "language": "python",
     "metadata": {},
     "outputs": []
    },
    {
     "cell_type": "markdown",
     "metadata": {},
     "source": [
      "To obtain exactly the same array as computed by convolve or fftconvolve\n",
      "(i.e. to get the equivalent of the 'valid' mode), we must discard the\n",
      "beginning of the array computed by lfilter. We can do this by slicing\n",
      "the array immediately after the call to filter:"
     ]
    },
    {
     "cell_type": "code",
     "collapsed": false,
     "input": [
      "    y = lfilter(b, [1.0], x)[:, len(b) - 1:]"
     ],
     "language": "python",
     "metadata": {},
     "outputs": []
    },
    {
     "cell_type": "markdown",
     "metadata": {},
     "source": [
      "The following script computes and plots the results of applying a FIR\n",
      "filter to a 2 by 131072 array of data, with a series of FIR filters of\n",
      "increasing length."
     ]
    },
    {
     "cell_type": "code",
     "collapsed": false,
     "input": [
      "#!python\n",
      "import time\n",
      "\n",
      "import numpy as np\n",
      "from numpy import convolve as np_convolve\n",
      "from scipy.signal import convolve as sig_convolve, fftconvolve, lfilter, firwin\n",
      "from scipy.ndimage import convolve1d\n",
      "from pylab import grid, show, legend, loglog, xlabel, ylabel, figure\n",
      "\n",
      "# Create the m by n data to be filtered.\n",
      "m = 4\n",
      "n = 2 ** 17\n",
      "x = np.random.random(size=(m, n))\n",
      "\n",
      "conv_time = []\n",
      "npconv_time = []\n",
      "fftconv_time = []\n",
      "conv1d_time = []\n",
      "lfilt_time = []\n",
      "\n",
      "diff_list = []\n",
      "diff2_list = []\n",
      "diff3_list = []\n",
      "\n",
      "ntaps_list = 2 ** np.arange(2, 13)\n",
      "\n",
      "for ntaps in ntaps_list:\n",
      "    # Create a FIR filter.\n",
      "    b = firwin(ntaps, [0.05, 0.95], width=0.05, pass_zero=False)\n",
      "\n",
      "    if ntaps <= 2 ** 9:\n",
      "        # --- signal.convolve ---\n",
      "        # We know this is slower than the others when ntaps is\n",
      "        # large, so we only compute it for small values.\n",
      "        tstart = time.time()\n",
      "        conv_result = sig_convolve(x, b[np.newaxis, :], mode='valid')\n",
      "        conv_time.append(time.time() - tstart)\n",
      "\n",
      "    # --- numpy.convolve ---\n",
      "    tstart = time.time()\n",
      "    npconv_result = np.array([np_convolve(xi, b, mode='valid') for xi in x])\n",
      "    npconv_time.append(time.time() - tstart)\n",
      "\n",
      "    # --- signal.fftconvolve ---\n",
      "    tstart = time.time()\n",
      "    fftconv_result = fftconvolve(x, b[np.newaxis, :], mode='valid')\n",
      "    fftconv_time.append(time.time() - tstart)\n",
      "\n",
      "    # --- convolve1d ---\n",
      "    tstart = time.time()\n",
      "    # convolve1d doesn't have a 'valid' mode, so we expliclity slice out\n",
      "    # the valid part of the result.\n",
      "    conv1d_result = convolve1d(x, b)[:, (len(b)-1)//2 : -(len(b)//2)]\n",
      "    conv1d_time.append(time.time() - tstart)\n",
      "\n",
      "    # --- lfilter ---\n",
      "    tstart = time.time()\n",
      "    lfilt_result = lfilter(b, [1.0], x)[:, len(b) - 1:]\n",
      "    lfilt_time.append(time.time() - tstart)\n",
      "\n",
      "    diff = np.abs(fftconv_result - lfilt_result).max()\n",
      "    diff_list.append(diff)\n",
      "\n",
      "    diff2 = np.abs(conv1d_result - lfilt_result).max()\n",
      "    diff2_list.append(diff2)\n",
      "\n",
      "    diff3 = np.abs(npconv_result - lfilt_result).max()\n",
      "    diff3_list.append(diff3)\n",
      "\n",
      "# Verify that np.convolve and lfilter gave the same results.\n",
      "print \"Did np.convolve and lfilter produce the same results?\",\n",
      "check = all(diff < 1e-13 for diff in diff3_list)\n",
      "if check:\n",
      "    print \"Yes.\"\n",
      "else:\n",
      "    print \"No!  Something went wrong.\"\n",
      "\n",
      "# Verify that fftconvolve and lfilter gave the same results.\n",
      "print \"Did fftconvolve and lfilter produce the same results?\",\n",
      "check = all(diff < 1e-13 for diff in diff_list)\n",
      "if check:\n",
      "    print \"Yes.\"\n",
      "else:\n",
      "    print \"No!  Something went wrong.\"\n",
      "\n",
      "# Verify that convolve1d and lfilter gave the same results.\n",
      "print \"Did convolve1d and lfilter produce the same results?\",\n",
      "check = all(diff2 < 1e-13 for diff2 in diff2_list)\n",
      "if check:\n",
      "    print \"Yes.\"\n",
      "else:\n",
      "    print \"No!  Something went wrong.\"\n",
      "\n",
      "figure(1, figsize=(8, 5.5))\n",
      "loglog(ntaps_list, npconv_time, 'c-s', label='numpy.convolve')\n",
      "loglog(ntaps_list, conv1d_time, 'k-p', label='ndimage.convolve1d')\n",
      "loglog(ntaps_list, fftconv_time, 'g-*', markersize=8, label='signal.fftconvolve')\n",
      "loglog(ntaps_list[:len(conv_time)], conv_time, 'm-d', label='signal.convolve')\n",
      "loglog(ntaps_list, lfilt_time, 'b-o', label='signal.lfilter')\n",
      "legend(loc='best', numpoints=1)\n",
      "grid(True)\n",
      "xlabel('Number of taps')\n",
      "ylabel('Time to filter (seconds)')\n",
      "show()"
     ],
     "language": "python",
     "metadata": {},
     "outputs": []
    }
   ],
   "metadata": {}
  }
 ]
}