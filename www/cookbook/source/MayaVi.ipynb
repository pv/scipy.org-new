{
 "metadata": {},
 "nbformat": 3,
 "nbformat_minor": 0,
 "worksheets": [
  {
   "cells": [
    {
     "cell_type": "markdown",
     "metadata": {},
     "source": [
      "Mayavi\n",
      "======================================================================\n",
      "\n",
      "[Mayavi2](http://code.enthought.com/projects/mayavi/) is a interactive\n",
      "program allowing elaborate 3D plots of scientific data in Python with\n",
      "scipy. It is the successor of [MayaVi](http://mayavi.sf.net) for 3D\n",
      "visualization.\n",
      "\n",
      "||\\<\\#80FF80\\> The information on this page is a bit old and outdated.\n",
      "You are invited to refer to the [Mayavi2 user\n",
      "guide](http://enthought.github.com/mayavi/mayavi/) as a reference. For a\n",
      "quick introduction to scripting, see\n",
      "[mlab](http://enthought.github.com/mayavi/mayavi/mlab.html). In recent\n",
      "versions of Mayavi2, the user guide can be accessed in the help menu,\n",
      "but the user guide for the latest version of Mayavi can also be found\n",
      "[on line](http://enthought.github.com/mayavi/mayavi/). ||\n",
      "\n",
      "If you need more help, you are invited to ask questions on the\n",
      "[Enthought-dev](https://mail.enthought.com/mailman/listinfo/enthought-dev)\n",
      "mailing list."
     ]
    },
    {
     "cell_type": "code",
     "collapsed": false,
     "input": [
      "#!figure\n",
      "#class right\n",
      "## Snazzy graphics here...\n",
      "# ![](files/attachments/MayaVi/mayavi2.png\n",
      "\n",
      "!Mayavi2 relies on [http://www.vtk.org VTK], and especially a python interface to it: [https://svn.enthought.com/enthought/wiki/TVTK TVTK].\n",
      "\n",
      "\n",
      "A mayavi2 session."
     ],
     "language": "python",
     "metadata": {},
     "outputs": []
    },
    {
     "cell_type": "markdown",
     "metadata": {},
     "source": [
      "MayaVi2 topics\n",
      "--------------\n",
      "\n",
      "!MayaVi2 can be used as an interactive program or not, as it will be\n",
      "presented here.\n",
      "\n",
      "`*\u00a0For\u00a0installation\u00a0of\u00a0!MayaVi2\u00a0in\u00a0the\u00a0enthought\u00a0tool\u00a0suite\u00a0see\u00a0the\u00a0`[`Mayavi`\n",
      "`documentation`](http://enthought.github.com/mayavi/mayavi/installation.html)\n",
      "\n",
      "`*\u00a0Using\u00a0!MayaVi2:`\n",
      "\n",
      "`\u00a0\u00a0There\u00a0are\u00a0(at\u00a0least)\u00a0two\u00a0ways\u00a0to\u00a0use\u00a0!MayaVi2:`\n",
      "\n",
      "`\u00a0\u00a0\u00a0*\u00a0[:Cookbook/MayaVi/RunningMayavi2:\u00a0Running\u00a0MayaVi2]\u00a0on\u00a0the\u00a0command\u00a0line.`\n",
      "\n",
      "`\u00a0\u00a0\u00a0*\u00a0[:Cookbook/MayaVi/ScriptingMayavi2:\u00a0Scripting\u00a0MayaVi2]\u00a0in\u00a0Python.`\n",
      "\n",
      "`*\u00a0[:Cookbook/MayaVi/Examples:\u00a0Scripting\u00a0Examples]\u00a0(all\u00a0provided\u00a0in\u00a0!MayaVi2\u00a0svn\u00a0tree):`\n",
      "\n",
      "`\u00a0\u00a0\u00a0*\u00a0Using\u00a0Contour\u00a0Module\u00a0(contour.py)`\n",
      "\n",
      "`\u00a0\u00a0\u00a0*\u00a0Using\u00a0Glyph\u00a0Module\u00a0(glyph.py)`\n",
      "\n",
      "`\u00a0\u00a0\u00a0*\u00a0Using\u00a0Mayavi2\u00a0without\u00a0GUI\u00a0(nongui.py)`\n",
      "\n",
      "`\u00a0\u00a0\u00a0*\u00a0A\u00a03D\u00a0array\u00a0as\u00a0numerical\u00a0source\u00a0(numeric_source.py)`\n",
      "\n",
      "`\u00a0\u00a0\u00a0*\u00a0Using\u00a0Streamline\u00a0Module\u00a0(streamline.py)`\n",
      "\n",
      "`\u00a0\u00a0\u00a0*\u00a0Using\u00a0!ImagePlaneWidget\u00a0Module\u00a0(test.py)`\n",
      "\n",
      "`\u00a0\u00a0\u00a0*\u00a0Plotting\u00a0a\u00a0surface\u00a0from\u00a0a\u00a0matrix\u00a0(surf_regular_mlab.py).\u00a0See\u00a0also\u00a0[:Cookbook/MayaVi/Surf:\u00a0Cookbook/MayaVi/Surf]`\n",
      "\n",
      "`*\u00a0[:Cookbook/MayaVi/Tips:\u00a0Tips]:\u00a0General\u00a0tips\u00a0for\u00a0!MayaVi2\u00a0and\u00a0around.`\n",
      "\n",
      "TVTK\n",
      "===="
     ]
    },
    {
     "cell_type": "code",
     "collapsed": false,
     "input": [
      "#!figure\n",
      "#class inline\n",
      "## Snazzy graphics here...\n",
      "# ![](files/attachments/MayaVi/mlab.png\n",
      "\n",
      "Using the mlab module from ipython"
     ],
     "language": "python",
     "metadata": {},
     "outputs": []
    }
   ],
   "metadata": {}
  }
 ]
}