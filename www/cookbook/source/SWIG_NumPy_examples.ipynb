{
 "metadata": {},
 "nbformat": 3,
 "nbformat_minor": 0,
 "worksheets": [
  {
   "cells": [
    {
     "cell_type": "markdown",
     "metadata": {},
     "source": [
      "SWIG Numpy examples\n",
      "===================\n",
      "\n",
      "Introduction\n",
      "------------\n",
      "\n",
      "These are simple !NumPy and SWIG examples which use the numpy.i\n",
      "interface file. There is also a MinGW section for people who may want to\n",
      "use these in a Win32 environment. The following code is C, rather than\n",
      "C++.\n",
      "\n",
      "The information contained here was first made available by Bill Spotz in\n",
      "his article *numpy.i: a SWIG Interface File for !NumPy*, and the !NumPy\n",
      "SVN which can be checked out using the following command:"
     ]
    },
    {
     "cell_type": "code",
     "collapsed": false,
     "input": [
      "svn co http://scipy.org/svn/numpy/trunk numpy"
     ],
     "language": "python",
     "metadata": {},
     "outputs": []
    },
    {
     "cell_type": "markdown",
     "metadata": {},
     "source": [
      "`\u00a0*\u00a0The\u00a0!NumPy+SWIG\u00a0manual\u00a0is\u00a0available\u00a0here:\u00a0`[`1`](http://scipy.org/svn/numpy/trunk/doc/swig/doc/numpy_swig.pdf)\\\n",
      "`\u00a0*\u00a0The\u00a0numpy.i\u00a0file\u00a0can\u00a0be\u00a0downloaded\u00a0from\u00a0the\u00a0SVN:\u00a0`[`2`](http://scipy.org/svn/numpy/trunk/doc/swig/numpy.i)\\\n",
      "`\u00a0*\u00a0and\u00a0the\u00a0pyfragments.swg\u00a0file,\u00a0hich\u00a0is\u00a0also\u00a0needed,\u00a0is\u00a0available\u00a0from\u00a0`[`3`](http://scipy.org/svn/numpy/trunk/doc/swig/pyfragments.swg)\\\n",
      "`\u00a0*\u00a0These\u00a0two\u00a0files\u00a0(and\u00a0others)\u00a0are\u00a0also\u00a0available\u00a0in\u00a0the\u00a0numpy\u00a0source\u00a0tarball:\u00a0`[`4`](http://sourceforge.net/project/showfiles.php?group_id=1369&package_id=175103)\n",
      "\n",
      "Initial setup\n",
      "-------------\n",
      "\n",
      "### gcc and SWIG\n",
      "\n",
      "Check that both gcc and SWIG are available (paths known):"
     ]
    },
    {
     "cell_type": "code",
     "collapsed": false,
     "input": [
      "swig -version"
     ],
     "language": "python",
     "metadata": {},
     "outputs": []
    },
    {
     "cell_type": "markdown",
     "metadata": {},
     "source": [
      "and"
     ]
    },
    {
     "cell_type": "code",
     "collapsed": false,
     "input": [
      "gcc -v"
     ],
     "language": "python",
     "metadata": {},
     "outputs": []
    },
    {
     "cell_type": "markdown",
     "metadata": {},
     "source": [
      "Both should output some text...\n",
      "\n",
      "### Modifying the pyfragments.swg file (MinGW only)\n",
      "\n",
      "This is from my own tests, running SWIG Version 1.3.36 and gcc version\n",
      "3.4.5 (mingw-vista special r3). I had to remove the 'static' statements\n",
      "from the source, otherwise your SWIGed sources won't compile. There are\n",
      "only two 'static' statements in the file, both will need removing. Here\n",
      "is my modified version:\n",
      "[pyfragments.swg](http://ezwidgets.googlecode.com/svn/trunk/numpy/pyfragments.swg)\n",
      "\n",
      "### Compilation and testing\n",
      "\n",
      "A setup.py file specific to each module must be written first. I based\n",
      "mine on the reference setup.py available in\n",
      "<http://scipy.org/svn/numpy/trunk/doc/swig/test/> with added automatic\n",
      "handling of swig.\n",
      "\n",
      "On a un\\*x like system, the command-line is:"
     ]
    },
    {
     "cell_type": "code",
     "collapsed": false,
     "input": [
      "python setup.py build"
     ],
     "language": "python",
     "metadata": {},
     "outputs": []
    },
    {
     "cell_type": "markdown",
     "metadata": {},
     "source": [
      "In a Win32 environment (either cygwin or cmd), the setup command-line is\n",
      "(for use with MinGW):"
     ]
    },
    {
     "cell_type": "code",
     "collapsed": false,
     "input": [
      "python setup.py build --compiler=mingw32"
     ],
     "language": "python",
     "metadata": {},
     "outputs": []
    },
    {
     "cell_type": "markdown",
     "metadata": {},
     "source": [
      "The command handles both the SWIG process (generation of wrapper C and\n",
      "Python code) and gcc compilation. The resulting module (a pyd file) is\n",
      "built in the \\`build\\\\lib.XXX\\` directory (e.g. for a Python 2.5 install\n",
      "and on a Win32 machine, the \\`build\\\\lib.win32-2.5\\` directory).\n",
      "\n",
      "A simple ARGOUT\\_ARRAY1 example\n",
      "-------------------------------\n",
      "\n",
      "This is a re-implementation of the range function. The module is called\n",
      "ezrange. One thing to remember with \\`ARGOUT\\_ARRAY1\\` is that the\n",
      "dimension of the array must be passed from Python.\n",
      "\n",
      "From Bill Spotz's article: *The python user does not pass these arrays\n",
      "in, they simply get returned. For the case where a dimension is\n",
      "specified, the python user must provide that dimension as an argument.*\n",
      "\n",
      "This is useful for functions like \\`numpy.arange(N)\\`, for which the\n",
      "size of the returned array is known in advance and passed to the C\n",
      "function.\n",
      "\n",
      "For functions that follow \\`array\\_out = function(array\\_in)\\` where the\n",
      "size of array\\_out is *not* known in advance and depends on memory\n",
      "allocated in C, see the example given in [:Cookbook/SWIG Memory\n",
      "Deallocation].\n",
      "\n",
      "### The C source (ezrange.c and ezrange.h)\n",
      "\n",
      "Here is the\n",
      "[ezrange.h](http://ezwidgets.googlecode.com/svn/trunk/numpy/ezrange.h)\n",
      "file:"
     ]
    },
    {
     "cell_type": "code",
     "collapsed": false,
     "input": [
      "void range(int *rangevec, int n);"
     ],
     "language": "python",
     "metadata": {},
     "outputs": []
    },
    {
     "cell_type": "markdown",
     "metadata": {},
     "source": [
      "Here is the\n",
      "[ezrange.c](http://ezwidgets.googlecode.com/svn/trunk/numpy/ezrange.c)\n",
      "file:"
     ]
    },
    {
     "cell_type": "code",
     "collapsed": false,
     "input": [
      "void range(int *rangevec, int n)\n",
      "{\n",
      "    int i;\n",
      "\n",
      "    for (i=0; i< n; i++)\n",
      "        rangevec[i] = i;\n",
      "}"
     ],
     "language": "python",
     "metadata": {},
     "outputs": []
    },
    {
     "cell_type": "markdown",
     "metadata": {},
     "source": [
      "### The interface file (ezrange.i)\n",
      "\n",
      "Here is the\n",
      "[ezrange.i](http://ezwidgets.googlecode.com/svn/trunk/numpy/ezrange.i)\n",
      "file."
     ]
    },
    {
     "cell_type": "code",
     "collapsed": false,
     "input": [
      "%module ezrange\n",
      "\n",
      "%{\n",
      "    #define SWIG_FILE_WITH_INIT\n",
      "    #include \"ezrange.h\"\n",
      "%}\n",
      "\n",
      "%include \"numpy.i\"\n",
      "\n",
      "%init %{\n",
      "    import_array();\n",
      "%}\n",
      "\n",
      "%apply (int* ARGOUT_ARRAY1, int DIM1) {(int* rangevec, int n)}\n",
      "\n",
      "%include \"ezrange.h\""
     ],
     "language": "python",
     "metadata": {},
     "outputs": []
    },
    {
     "cell_type": "markdown",
     "metadata": {},
     "source": [
      "Don't forget that you will also need the\n",
      "[numpy.i](http://scipy.org/svn/numpy/trunk/doc/swig/numpy.i) file in the\n",
      "same directory.\n",
      "\n",
      "### Setup file (setup.py)\n",
      "\n",
      "This is my\n",
      "[setup.py](http://ezwidgets.googlecode.com/svn/trunk/numpy/setup_range.py)\n",
      "file:"
     ]
    },
    {
     "cell_type": "code",
     "collapsed": false,
     "input": [
      "#! /usr/bin/env python\n",
      "\n",
      "# System imports\n",
      "from distutils.core import *\n",
      "from distutils      import sysconfig\n",
      "\n",
      "# Third-party modules - we depend on numpy for everything\n",
      "import numpy\n",
      "\n",
      "# Obtain the numpy include directory.  This logic works across numpy versions.\n",
      "try:\n",
      "    numpy_include = numpy.get_include()\n",
      "except AttributeError:\n",
      "    numpy_include = numpy.get_numpy_include()\n",
      "\n",
      "# ezrange extension module\n",
      "_ezrange = Extension(\"_ezrange\",\n",
      "                   [\"ezrange.i\",\"ezrange.c\"],\n",
      "                   include_dirs = [numpy_include],\n",
      "                   )\n",
      "\n",
      "# ezrange setup\n",
      "setup(  name        = \"range function\",\n",
      "        description = \"range takes an integer and returns an n element int array where each element is equal to its index\",\n",
      "        author      = \"Egor Zindy\",\n",
      "        version     = \"1.0\",\n",
      "        ext_modules = [_ezrange]\n",
      "        )"
     ],
     "language": "python",
     "metadata": {},
     "outputs": []
    },
    {
     "cell_type": "markdown",
     "metadata": {},
     "source": [
      "### Compiling the module\n",
      "\n",
      "The setup command-line is:"
     ]
    },
    {
     "cell_type": "code",
     "collapsed": false,
     "input": [
      "python setup.py build"
     ],
     "language": "python",
     "metadata": {},
     "outputs": []
    },
    {
     "cell_type": "markdown",
     "metadata": {},
     "source": [
      "or"
     ]
    },
    {
     "cell_type": "code",
     "collapsed": false,
     "input": [
      "python setup.py build --compiler=mingw32"
     ],
     "language": "python",
     "metadata": {},
     "outputs": []
    },
    {
     "cell_type": "markdown",
     "metadata": {},
     "source": [
      "depending on your environment.\n",
      "\n",
      "### Testing the module\n",
      "\n",
      "If everything goes according to plan, there should be a\n",
      "\\`\\_ezrange.pyd\\` file available in the \\`build\\\\lib.XXX\\` directory.\n",
      "You will need to copy the file in the directory where the \\`ezrange.py\\`\n",
      "file is (generated by swig), in which case, the following will work (in\n",
      "python):"
     ]
    },
    {
     "cell_type": "code",
     "collapsed": false,
     "input": [
      ">>> import ezrange\n",
      ">>> ezrange.range(10)\n",
      "array([0, 1, 2, 3, 4, 5, 6, 7, 8, 9])"
     ],
     "language": "python",
     "metadata": {},
     "outputs": []
    },
    {
     "cell_type": "markdown",
     "metadata": {},
     "source": [
      "A simple INPLACE\\_ARRAY1 example\n",
      "--------------------------------\n",
      "\n",
      "This example doubles the elements of the 1-D array passed to it. The\n",
      "operation is done in-place, which means that the array passed to the\n",
      "function is changed.\n",
      "\n",
      "### The C source (inplace.c and inplace.h)\n",
      "\n",
      "Here is the\n",
      "[inplace.h](http://ezwidgets.googlecode.com/svn/trunk/numpy/inplace.h)\n",
      "file:"
     ]
    },
    {
     "cell_type": "code",
     "collapsed": false,
     "input": [
      "void inplace(double *invec, int n);"
     ],
     "language": "python",
     "metadata": {},
     "outputs": []
    },
    {
     "cell_type": "markdown",
     "metadata": {},
     "source": [
      "Here is the\n",
      "[inplace.c](http://ezwidgets.googlecode.com/svn/trunk/numpy/inplace.c)\n",
      "file:"
     ]
    },
    {
     "cell_type": "code",
     "collapsed": false,
     "input": [
      "void inplace(double *invec, int n)\n",
      "{\n",
      "    int i;\n",
      "\n",
      "    for (i=0; i<n; i++)\n",
      "    {\n",
      "        invec[i] = 2*invec[i];\n",
      "    }\n",
      "}"
     ],
     "language": "python",
     "metadata": {},
     "outputs": []
    },
    {
     "cell_type": "markdown",
     "metadata": {},
     "source": [
      "### The interface file (inplace.i)\n",
      "\n",
      "Here is the\n",
      "[inplace.i](http://ezwidgets.googlecode.com/svn/trunk/numpy/inplace.i)\n",
      "interface file:"
     ]
    },
    {
     "cell_type": "code",
     "collapsed": false,
     "input": [
      "%module inplace\n",
      "\n",
      "%{\n",
      "    #define SWIG_FILE_WITH_INIT\n",
      "    #include \"inplace.h\"\n",
      "%}\n",
      "\n",
      "%include \"numpy.i\"\n",
      "\n",
      "%init %{\n",
      "    import_array();\n",
      "%}\n",
      "\n",
      "%apply (double* INPLACE_ARRAY1, int DIM1) {(double* invec, int n)}\n",
      "%include \"inplace.h\""
     ],
     "language": "python",
     "metadata": {},
     "outputs": []
    },
    {
     "cell_type": "markdown",
     "metadata": {},
     "source": [
      "### Setup file (setup.py)\n",
      "\n",
      "This is my\n",
      "[setup.py](http://ezwidgets.googlecode.com/svn/trunk/numpy/setup_inplace.py)\n",
      "file:"
     ]
    },
    {
     "cell_type": "code",
     "collapsed": false,
     "input": [
      "#! /usr/bin/env python\n",
      "\n",
      "# System imports\n",
      "from distutils.core import *\n",
      "from distutils      import sysconfig\n",
      "\n",
      "# Third-party modules - we depend on numpy for everything\n",
      "import numpy\n",
      "\n",
      "# Obtain the numpy include directory.  This logic works across numpy versions.\n",
      "try:\n",
      "    numpy_include = numpy.get_include()\n",
      "except AttributeError:\n",
      "    numpy_include = numpy.get_numpy_include()\n",
      "\n",
      "# inplace extension module\n",
      "_inplace = Extension(\"_inplace\",\n",
      "                   [\"inplace.i\",\"inplace.c\"],\n",
      "                   include_dirs = [numpy_include],\n",
      "                   )\n",
      "\n",
      "# NumyTypemapTests setup\n",
      "setup(  name        = \"inplace function\",\n",
      "        description = \"inplace takes a double array and doubles each of its elements in-place.\",\n",
      "\n",
      "        author      = \"Egor Zindy\",\n",
      "        version     = \"1.0\",\n",
      "        ext_modules = [_inplace]\n",
      "        )"
     ],
     "language": "python",
     "metadata": {},
     "outputs": []
    },
    {
     "cell_type": "markdown",
     "metadata": {},
     "source": [
      "### Compiling the module\n",
      "\n",
      "The setup command-line is:"
     ]
    },
    {
     "cell_type": "code",
     "collapsed": false,
     "input": [
      "python setup.py build"
     ],
     "language": "python",
     "metadata": {},
     "outputs": []
    },
    {
     "cell_type": "markdown",
     "metadata": {},
     "source": [
      "or"
     ]
    },
    {
     "cell_type": "code",
     "collapsed": false,
     "input": [
      "python setup.py build --compiler=mingw32"
     ],
     "language": "python",
     "metadata": {},
     "outputs": []
    },
    {
     "cell_type": "markdown",
     "metadata": {},
     "source": [
      "depending on your environment.\n",
      "\n",
      "### Testing the module\n",
      "\n",
      "If everything goes according to plan, there should be a\n",
      "\\`\\_inplace.pyd\\` file available in the \\`build\\\\lib.XXX\\` directory.\n",
      "You will need to copy the file in the directory where the \\`inplace.py\\`\n",
      "file is (generated by swig), in which case, the following will work (in\n",
      "python):"
     ]
    },
    {
     "cell_type": "code",
     "collapsed": false,
     "input": [
      ">>> import numpy\n",
      ">>> import inplace\n",
      ">>> a = numpy.array([1,2,3],'d')\n",
      ">>> inplace.inplace(a)\n",
      ">>> a\n",
      "array([2., 4., 6.])"
     ],
     "language": "python",
     "metadata": {},
     "outputs": []
    },
    {
     "cell_type": "markdown",
     "metadata": {},
     "source": [
      "A simple ARGOUTVIEW\\_ARRAY1 example\n",
      "-----------------------------------\n",
      "\n",
      "### Big fat multiple warnings\n",
      "\n",
      "Please note, Bill Spotz advises against the use of argout\\_view arrays,\n",
      "unless absolutely necessary:\n",
      "\n",
      "`\u00a0Argoutview\u00a0arrays\u00a0are\u00a0for\u00a0when\u00a0your\u00a0C\u00a0code\u00a0provides\u00a0you\u00a0with\u00a0a\u00a0view\u00a0of\u00a0its\u00a0internal\u00a0data\u00a0and\u00a0does\u00a0not\u00a0require\u00a0any\u00a0memory\u00a0to\u00a0be\u00a0allocated\u00a0by\u00a0the\u00a0user.\u00a0This\u00a0can\u00a0be\u00a0dangerous.\u00a0There\u00a0is\u00a0almost\u00a0no\u00a0way\u00a0to\u00a0guarantee\u00a0that\u00a0the\u00a0internal\u00a0data\u00a0from\u00a0the\u00a0C\u00a0code\u00a0will\u00a0remain\u00a0in\u00a0existence\u00a0for\u00a0the\u00a0entire\u00a0lifetime\u00a0of\u00a0the\u00a0!NumPy\u00a0array\u00a0that\u00a0encapsulates\u00a0it.\u00a0If\u00a0the\u00a0user\u00a0destroys\u00a0the\u00a0object\u00a0that\u00a0provides\u00a0the\u00a0view\u00a0of\u00a0the\u00a0data\u00a0before\u00a0destroying\u00a0the\u00a0!NumPy\u00a0array,\u00a0then\u00a0using\u00a0that\u00a0array\u00a0my\u00a0result\u00a0in\u00a0bad\u00a0memory\u00a0references\u00a0or\u00a0segmentation\u00a0faults.\u00a0Nevertheless,\u00a0there\u00a0are\u00a0situations,\u00a0working\u00a0with\u00a0large\u00a0data\u00a0sets,\u00a0where\u00a0you\u00a0simply\u00a0have\u00a0no\u00a0other\u00a0choice.`\n",
      "\n",
      "Python does not take care of memory de-allocation, as stated here by\n",
      "Travis Oliphant: [1](http://blog.enthought.com/?p=62)\n",
      "\n",
      "`\u00a0The\u00a0tricky\u00a0part,\u00a0however,\u00a0is\u00a0memory\u00a0management.\u00a0How\u00a0does\u00a0the\u00a0memory\u00a0get\u00a0deallocated?\u00a0The\u00a0suggestions\u00a0have\u00a0always\u00a0been\u00a0something\u00a0similar\u00a0to\u00a0\u201cmake\u00a0sure\u00a0the\u00a0memory\u00a0doesn\u2019t\u00a0get\u00a0deallocated\u00a0before\u00a0the\u00a0!NumPy\u00a0array\u00a0disappears.\u201d\u00a0This\u00a0is\u00a0nice\u00a0advice,\u00a0but\u00a0not\u00a0generally\u00a0helpful\u00a0as\u00a0it\u00a0basically\u00a0just\u00a0tells\u00a0you\u00a0to\u00a0create\u00a0a\u00a0memory\u00a0leak.`\n",
      "\n",
      "Memory deallocation is also difficult to handle automatically as there\n",
      "is no easy way to do module \"finalization\". There is a\n",
      "\\`Py\\_InitModule()\\` function, but nothing to handle\n",
      "deletion/destruction/finalization (this will be addressed in Python 3000\n",
      "as stated in [PEP3121](http://www.python.org/dev/peps/pep-3121/). In my\n",
      "example, I use the python [module\n",
      "atexit](http://www.python.org/doc/2.5.2/lib/module-atexit.html) but\n",
      "there must be a better way.\n",
      "\n",
      "Having said all that, if you have no other choice, here is an example\n",
      "that uses ARGOUTVIEW\\_ARRAY1. As usual, comments welcome!\n",
      "\n",
      "The module declares a block of memory and a couple of functions: \\*\n",
      "ezview.set\\_ones() sets all the elements (doubles) in the memory block\n",
      "to one and returns a numpy array that is a VIEW of the memory block. \\*\n",
      "ezview.get\\_view() simply returns a view of the memory block. \\*\n",
      "ezview.finalize() takes care of the memory deallocation (this is the\n",
      "weak part of this example).\n",
      "\n",
      "### The C source (ezview.c and ezview.h)\n",
      "\n",
      "Here is the\n",
      "[ezview.h](http://ezwidgets.googlecode.com/svn/trunk/numpy/ezview.h)\n",
      "file:"
     ]
    },
    {
     "cell_type": "code",
     "collapsed": false,
     "input": [
      "void set_ones(double *array, int n);"
     ],
     "language": "python",
     "metadata": {},
     "outputs": []
    },
    {
     "cell_type": "markdown",
     "metadata": {},
     "source": [
      "Here is the\n",
      "[ezview.c](http://ezwidgets.googlecode.com/svn/trunk/numpy/ezview.c)\n",
      "file:"
     ]
    },
    {
     "cell_type": "code",
     "collapsed": false,
     "input": [
      "#include <stdio.h>\n",
      "#include <stdlib.h> \n",
      "\n",
      "#include \"ezview.h\"\n",
      "\n",
      "void set_ones(double *array, int n)\n",
      "{\n",
      "    int i;\n",
      "\n",
      "    if (array == NULL)\n",
      "        return;\n",
      "\n",
      "    for (i=0;i<n;i++)\n",
      "        array[i] = 1.;\n",
      "}"
     ],
     "language": "python",
     "metadata": {},
     "outputs": []
    },
    {
     "cell_type": "markdown",
     "metadata": {},
     "source": [
      "### The interface file (ezview.i)\n",
      "\n",
      "Here is the\n",
      "[ezview.i](http://ezwidgets.googlecode.com/svn/trunk/numpy/ezview.i)\n",
      "interface file:"
     ]
    },
    {
     "cell_type": "code",
     "collapsed": false,
     "input": [
      "%module ezview\n",
      "\n",
      "%{\n",
      "    #define SWIG_FILE_WITH_INIT\n",
      "    #include \"ezview.h\"\n",
      "\n",
      "    double *my_array = NULL;\n",
      "    int my_n = 10;\n",
      "\n",
      "    void __call_at_begining()\n",
      "    {\n",
      "        printf(\"__call_at_begining...\\n\");\n",
      "        my_array = (double *)malloc(my_n*sizeof(double));\n",
      "    }\n",
      "\n",
      "    void __call_at_end(void)\n",
      "    {\n",
      "        printf(\"__call_at_end...\\n\");\n",
      "        if (my_array != NULL)\n",
      "            free(my_array);\n",
      "    }\n",
      "%}\n",
      "\n",
      "%include \"numpy.i\"\n",
      "\n",
      "%init %{\n",
      "    import_array();\n",
      "    __call_at_begining();\n",
      "%}\n",
      "\n",
      "%apply (double** ARGOUTVIEW_ARRAY1, int *DIM1) {(double** vec, int* n)}\n",
      "\n",
      "%include \"ezview.h\"\n",
      "%rename (set_ones) my_set_ones;\n",
      "\n",
      "%inline %{\n",
      "void finalize(void){\n",
      "    __call_at_end();\n",
      "}\n",
      "\n",
      "void get_view(double **vec, int* n) {\n",
      "    *vec = my_array;\n",
      "    *n = my_n;\n",
      "}\n",
      "\n",
      "void my_set_ones(double **vec, int* n) {\n",
      "    set_ones(my_array,my_n);\n",
      "    *vec = my_array;\n",
      "    *n = my_n;\n",
      "}\n",
      "%}"
     ],
     "language": "python",
     "metadata": {},
     "outputs": []
    },
    {
     "cell_type": "markdown",
     "metadata": {},
     "source": [
      "Don't forget that you will also need the numpy.i file in the same\n",
      "directory.\n",
      "\n",
      "### Setup file (setup.py)\n",
      "\n",
      "This is my\n",
      "[setup.py](http://ezwidgets.googlecode.com/svn/trunk/numpy/setup_ezview.py)\n",
      "file:"
     ]
    },
    {
     "cell_type": "code",
     "collapsed": false,
     "input": [
      "#! /usr/bin/env python\n",
      "\n",
      "# System imports\n",
      "from distutils.core import *\n",
      "from distutils      import sysconfig\n",
      "\n",
      "# Third-party modules - we depend on numpy for everything\n",
      "import numpy\n",
      "\n",
      "# Obtain the numpy include directory.  This logic works across numpy versions.\n",
      "try:\n",
      "    numpy_include = numpy.get_include()\n",
      "except AttributeError:\n",
      "    numpy_include = numpy.get_numpy_include()\n",
      "\n",
      "# view extension module\n",
      "_ezview = Extension(\"_ezview\",\n",
      "                   [\"ezview.i\",\"ezview.c\"],\n",
      "                   include_dirs = [numpy_include],\n",
      "                   )\n",
      "\n",
      "# NumyTypemapTests setup\n",
      "setup(  name        = \"ezview module\",\n",
      "        description = \"ezview provides 3 functions: set_ones(), get_view() and finalize(). set_ones() and get_view() provide a view on a memory block allocated in C, finalize() takes care of the memory deallocation.\",\n",
      "        author      = \"Egor Zindy\",\n",
      "        version     = \"1.0\",\n",
      "        ext_modules = [_ezview]\n",
      "        )"
     ],
     "language": "python",
     "metadata": {},
     "outputs": []
    },
    {
     "cell_type": "markdown",
     "metadata": {},
     "source": [
      "### Compiling the module\n",
      "\n",
      "The setup command-line is:"
     ]
    },
    {
     "cell_type": "code",
     "collapsed": false,
     "input": [
      "python setup.py build"
     ],
     "language": "python",
     "metadata": {},
     "outputs": []
    },
    {
     "cell_type": "markdown",
     "metadata": {},
     "source": [
      "or"
     ]
    },
    {
     "cell_type": "code",
     "collapsed": false,
     "input": [
      "python setup.py build --compiler=mingw32"
     ],
     "language": "python",
     "metadata": {},
     "outputs": []
    },
    {
     "cell_type": "markdown",
     "metadata": {},
     "source": [
      "depending on your environment.\n",
      "\n",
      "### Testing the module\n",
      "\n",
      "If everything goes according to plan, there should be a \\`\\_ezview.pyd\\`\n",
      "file available in the \\`build\\\\lib.XXX\\` directory. You will need to\n",
      "copy the file in the directory where the \\`ezview.py\\` file is\n",
      "(generated by swig), in which case, the following will work (in python):\n",
      "\n",
      "The test code\n",
      "[test\\_ezview.py](http://ezwidgets.googlecode.com/svn/trunk/numpy/test_ezview.py)\n",
      "follows:"
     ]
    },
    {
     "cell_type": "code",
     "collapsed": false,
     "input": [
      "import atexit\n",
      "import numpy\n",
      "print \"first message is from __call_at_begining()\"\n",
      "import ezview\n",
      "\n",
      "#There is no easy way to finalize the module (see PEP3121)\n",
      "atexit.register(ezview.finalize)\n",
      "\n",
      "a = ezview.set_ones()\n",
      "print \"\\ncalling ezview.set_ones() - now the memory block is all ones.\\nReturned array (a view on the allocated memory block) is:\"\n",
      "print a\n",
      "\n",
      "print \"\\nwe're setting the array using a[:]=arange(a.shape[0])\\nThis changes the content of the allocated memory block:\"\n",
      "a[:] = numpy.arange(a.shape[0])\n",
      "print a\n",
      "\n",
      "print \"\\nwe're now deleting the array  - this only deletes the view,\\nnot the allocated memory!\"\n",
      "del a\n",
      "\n",
      "print \"\\nlet's get a new view on the allocated memory, should STILL contain [0,1,2,3...]\"\n",
      "b = ezview.get_view()\n",
      "print b\n",
      "\n",
      "print \"\\nnext message from __call_at_end() - finalize() registered via module atexit\""
     ],
     "language": "python",
     "metadata": {},
     "outputs": []
    },
    {
     "cell_type": "markdown",
     "metadata": {},
     "source": [
      "Launch test\\_ezview.py and the following will hopefully happen:"
     ]
    },
    {
     "cell_type": "code",
     "collapsed": false,
     "input": [
      "~> python test_ezview.py\n",
      "first message is from __call_at_begining()\n",
      "__call_at_begining...\n",
      "\n",
      "calling ezview.set_ones() - now the memory block is all ones.\n",
      "Returned array (a view on the allocated memory block) is:\n",
      "[ 1.  1.  1.  1.  1.  1.  1.  1.  1.  1.]\n",
      "\n",
      "we re setting the array using a[:]=arange(a.shape[0])\n",
      "This changes the content of the allocated memory block:\n",
      "[ 0.  1.  2.  3.  4.  5.  6.  7.  8.  9.]\n",
      "\n",
      "we re now deleting the array  - this only deletes the view,\n",
      "not the allocated memory!\n",
      "\n",
      "let s get a new view on the allocated memory, should STILL contain [0,1,2,3...]\n",
      "[ 0.  1.  2.  3.  4.  5.  6.  7.  8.  9.]\n",
      "\n",
      "next message from __call_at_end() - finalize() registered via module atexit\n",
      "__call_at_end..."
     ],
     "language": "python",
     "metadata": {},
     "outputs": []
    },
    {
     "cell_type": "markdown",
     "metadata": {},
     "source": [
      "Error handling using errno and python exceptions\n",
      "------------------------------------------------\n",
      "\n",
      "I have been testing this for a few months now and this is the best I've\n",
      "come-up with. If anyone knows of a better way, please let me know.\n",
      "\n",
      "From the opengroup website, the lvalue errno is used by many functions\n",
      "to return error values. The idea is that the global variable errno is\n",
      "set to 0 before a function is called (in swig parlance: \\$action), and\n",
      "checked afterwards. If errno is non-zero, a python exception with a\n",
      "meaningful message is generated, depending on the value of errno.\n",
      "\n",
      "The following example comprises two examples: First example uses errno\n",
      "when checking whether an array index is valid. Second example uses errno\n",
      "to notify the user of a malloc() problem.\n",
      "\n",
      "### The C source (ezerr.c and ezerr.h)\n",
      "\n",
      "Here is the\n",
      "[ezerr.h](http://ezwidgets.googlecode.com/svn/trunk/numpy/ezerr.h) file:"
     ]
    },
    {
     "cell_type": "code",
     "collapsed": false,
     "input": [
      "int val(int *array, int n, int index);\n",
      "void alloc(int n);"
     ],
     "language": "python",
     "metadata": {},
     "outputs": []
    },
    {
     "cell_type": "markdown",
     "metadata": {},
     "source": [
      "Here is the\n",
      "[ezerr.c](http://ezwidgets.googlecode.com/svn/trunk/numpy/ezerr.c) file:"
     ]
    },
    {
     "cell_type": "code",
     "collapsed": false,
     "input": [
      "#include <stdlib.h>\n",
      "#include <errno.h>\n",
      "\n",
      "#include \"ezerr.h\"\n",
      "\n",
      "//return the array element defined by index\n",
      "int val(int *array, int n, int index)\n",
      "{\n",
      "    int value=0;\n",
      "\n",
      "    if (index < 0 || index >=n)\n",
      "    {\n",
      "        errno = EPERM;\n",
      "        goto end;\n",
      "    }\n",
      "\n",
      "    value = array[index];\n",
      "\n",
      "end:\n",
      "    return value;\n",
      "}\n",
      "\n",
      "//allocate (and free) a char array of size n\n",
      "void alloc(int n)\n",
      "{\n",
      "    char *array;\n",
      "\n",
      "    array = (char *)malloc(n*sizeof(char));\n",
      "    if (array == NULL)\n",
      "    {\n",
      "        errno = ENOMEM;\n",
      "        goto end;\n",
      "    }\n",
      "\n",
      "    //don't keep the memory allocated...\n",
      "    free(array);\n",
      "\n",
      "end:\n",
      "    return;\n",
      "}"
     ],
     "language": "python",
     "metadata": {},
     "outputs": []
    },
    {
     "cell_type": "markdown",
     "metadata": {},
     "source": [
      "### The interface file (ezerr.i)\n",
      "\n",
      "Here is the\n",
      "[ezerr.i](http://ezwidgets.googlecode.com/svn/trunk/numpy/ezerr.i)\n",
      "interface file:"
     ]
    },
    {
     "cell_type": "code",
     "collapsed": false,
     "input": [
      "%module ezerr\n",
      "%{\n",
      "#include <errno.h>\n",
      "#include \"ezerr.h\"\n",
      "\n",
      "#define SWIG_FILE_WITH_INIT\n",
      "%}\n",
      "\n",
      "%include \"numpy.i\"\n",
      "\n",
      "%init %{\n",
      "    import_array();\n",
      "%}\n",
      "\n",
      "%exception\n",
      "{\n",
      "    errno = 0;\n",
      "    $action\n",
      "\n",
      "    if (errno != 0)\n",
      "    {\n",
      "        switch(errno)\n",
      "        {\n",
      "            case EPERM:\n",
      "                PyErr_Format(PyExc_IndexError, \"Index out of range\");\n",
      "                break;\n",
      "            case ENOMEM:\n",
      "                PyErr_Format(PyExc_MemoryError, \"Failed malloc()\");\n",
      "                break;\n",
      "            default:\n",
      "                PyErr_Format(PyExc_Exception, \"Unknown exception\");\n",
      "        }\n",
      "        SWIG_fail;\n",
      "    }\n",
      "}\n",
      "\n",
      "%apply (int* IN_ARRAY1, int DIM1) {(int *array, int n)}\n",
      "\n",
      "%include \"ezerr.h\""
     ],
     "language": "python",
     "metadata": {},
     "outputs": []
    },
    {
     "cell_type": "markdown",
     "metadata": {},
     "source": [
      "Note the *SWIG\\_fail*, which is a macro for *goto fail* in case there is\n",
      "any other cleanup code to execute (thanks Bill!).\n",
      "\n",
      "Don't forget that you will also need the numpy.i file in the same\n",
      "directory.\n",
      "\n",
      "### Setup file (setup.py)\n",
      "\n",
      "This is my\n",
      "[setup.py](http://ezwidgets.googlecode.com/svn/trunk/numpy/setup_err.py)\n",
      "file:"
     ]
    },
    {
     "cell_type": "code",
     "collapsed": false,
     "input": [
      "#! /usr/bin/env python\n",
      "\n",
      "# System imports\n",
      "from distutils.core import *\n",
      "from distutils      import sysconfig\n",
      "\n",
      "# Third-party modules - we depend on numpy for everything\n",
      "import numpy\n",
      "\n",
      "# Obtain the numpy include directory.  This logic works across numpy versions.\n",
      "try:\n",
      "    numpy_include = numpy.get_include()\n",
      "except AttributeError:\n",
      "    numpy_include = numpy.get_numpy_include()\n",
      "\n",
      "# err extension module\n",
      "ezerr = Extension(\"_ezerr\",\n",
      "                   [\"ezerr.i\",\"ezerr.c\"],\n",
      "                   include_dirs = [numpy_include],\n",
      "\n",
      "                   extra_compile_args = [\"--verbose\"]\n",
      "                   )\n",
      "\n",
      "# NumyTypemapTests setup\n",
      "setup(  name        = \"err test\",\n",
      "        description = \"A simple test to demonstrate the use of errno and python exceptions\",\n",
      "        author      = \"Egor Zindy\",\n",
      "        version     = \"1.0\",\n",
      "        ext_modules = [ezerr]\n",
      "        )"
     ],
     "language": "python",
     "metadata": {},
     "outputs": []
    },
    {
     "cell_type": "markdown",
     "metadata": {},
     "source": [
      "### Compiling the module\n",
      "\n",
      "The setup command-line is:"
     ]
    },
    {
     "cell_type": "code",
     "collapsed": false,
     "input": [
      "python setup.py build"
     ],
     "language": "python",
     "metadata": {},
     "outputs": []
    },
    {
     "cell_type": "markdown",
     "metadata": {},
     "source": [
      "or"
     ]
    },
    {
     "cell_type": "code",
     "collapsed": false,
     "input": [
      "python setup.py build --compiler=mingw32"
     ],
     "language": "python",
     "metadata": {},
     "outputs": []
    },
    {
     "cell_type": "markdown",
     "metadata": {},
     "source": [
      "depending on your environment.\n",
      "\n",
      "### Testing the module\n",
      "\n",
      "If everything goes according to plan, there should be a \\`\\_ezerr.pyd\\`\n",
      "file available in the \\`build\\\\lib.XXX\\` directory. You will need to\n",
      "copy the file in the directory where the \\`ezerr.py\\` file is (generated\n",
      "by swig), in which case, the following will work (in python):\n",
      "\n",
      "The test code\n",
      "[test\\_err.py](http://ezwidgets.googlecode.com/svn/trunk/numpy/test_err.py)\n",
      "follows:"
     ]
    },
    {
     "cell_type": "code",
     "collapsed": false,
     "input": [
      "import traceback,sys\n",
      "import numpy\n",
      "import ezerr\n",
      "\n",
      "print \"\\n--- testing ezerr.val() ---\"\n",
      "a = numpy.arange(10)\n",
      "indexes = [5,20,-1]\n",
      "\n",
      "for i in indexes:\n",
      "    try:\n",
      "        value = ezerr.val(a,i)\n",
      "    except:\n",
      "        print \">> failed for index=%d\" % i\n",
      "        traceback.print_exc(file=sys.stdout)\n",
      "    else:\n",
      "        print \"using ezerr.val() a[%d]=%d - should be %d\" % (i,value,a[i])\n",
      "\n",
      "print \"\\n--- testing ezerr.alloc() ---\"\n",
      "amounts = [1,-1] #1 byte, -1 byte\n",
      "\n",
      "for n in amounts:\n",
      "    try:\n",
      "        ezerr.alloc(n)\n",
      "    except:\n",
      "        print \">> could not allocate %d bytes\" % n\n",
      "        traceback.print_exc(file=sys.stdout)\n",
      "    else:\n",
      "        print \"allocated (and deallocated) %d bytes\" % n"
     ],
     "language": "python",
     "metadata": {},
     "outputs": []
    },
    {
     "cell_type": "markdown",
     "metadata": {},
     "source": [
      "Launch test\\_err.py and the following will hopefully happen:"
     ]
    },
    {
     "cell_type": "code",
     "collapsed": false,
     "input": [
      "~> python test_err.py\n",
      "\n",
      "--- testing ezerr.val() ---\n",
      "using ezerr.val() a[5]=5 - should be 5\n",
      ">> failed for index=20\n",
      "Traceback (most recent call last):\n",
      "  File \"test_err.py\", line 11, in <module>\n",
      "    value = ezerr.val(a,i)\n",
      "IndexError: Index out of range\n",
      ">> failed for index=-1\n",
      "Traceback (most recent call last):\n",
      "  File \"test_err.py\", line 11, in <module>\n",
      "    value = ezerr.val(a,i)\n",
      "IndexError: Index out of range\n",
      "\n",
      "--- testing ezerr.alloc() ---\n",
      "allocated (and deallocated) 1 bytes\n",
      ">> could not allocate -1 bytes\n",
      "Traceback (most recent call last):\n",
      "  File \"test_err.py\", line 23, in <module>\n",
      "    ezerr.alloc(n)\n",
      "MemoryError: Failed malloc()"
     ],
     "language": "python",
     "metadata": {},
     "outputs": []
    },
    {
     "cell_type": "markdown",
     "metadata": {},
     "source": [
      "Dot product example (from Bill Spotz's article)\n",
      "-----------------------------------------------\n",
      "\n",
      "The last example given in Bill Spotz's artice is for a dot product\n",
      "function. Here is a fleshed-out version.\n",
      "\n",
      "### The C source (dot.c and dot.h)\n",
      "\n",
      "Here is the\n",
      "[dot.h](http://ezwidgets.googlecode.com/svn/trunk/numpy/dot.h) file:"
     ]
    },
    {
     "cell_type": "code",
     "collapsed": false,
     "input": [
      "double dot(int len, double* vec1, double* vec2);"
     ],
     "language": "python",
     "metadata": {},
     "outputs": []
    },
    {
     "cell_type": "markdown",
     "metadata": {},
     "source": [
      "Here is the\n",
      "[dot.c](http://ezwidgets.googlecode.com/svn/trunk/numpy/dot.c) file:"
     ]
    },
    {
     "cell_type": "code",
     "collapsed": false,
     "input": [
      "#include <stdio.h>\n",
      "#include \"dot.h\"\n",
      "\n",
      "double dot(int len, double* vec1, double* vec2)\n",
      "{\n",
      "    int i;\n",
      "    double d;\n",
      "\n",
      "    d = 0;\n",
      "    for(i=0;i<len;i++)\n",
      "        d += vec1[i]*vec2[i];\n",
      "\n",
      "    return d;\n",
      "}"
     ],
     "language": "python",
     "metadata": {},
     "outputs": []
    },
    {
     "cell_type": "markdown",
     "metadata": {},
     "source": [
      "### The interface files (dot.i and numpy.i)\n",
      "\n",
      "Here is the complete\n",
      "[dot.i](http://ezwidgets.googlecode.com/svn/trunk/numpy/dot.i) file:"
     ]
    },
    {
     "cell_type": "code",
     "collapsed": false,
     "input": [
      "%module dot\n",
      "\n",
      "%{\n",
      "    #define SWIG_FILE_WITH_INIT\n",
      "    #include \"dot.h\"\n",
      "%}\n",
      "\n",
      "%include \"numpy.i\"\n",
      "\n",
      "%init %{\n",
      "    import_array();\n",
      "%}\n",
      "\n",
      "%apply (int DIM1, double* IN_ARRAY1) {(int len1, double* vec1), (int len2, double* vec2)}\n",
      "\n",
      "\n",
      "%include \"dot.h\"\n",
      "%rename (dot) my_dot;\n",
      "\n",
      "%inline %{\n",
      "    double my_dot(int len1, double* vec1, int len2, double* vec2) {\n",
      "    if (len1 != len2) {\n",
      "        PyErr_Format(PyExc_ValueError, \"Arrays of lengths (%d,%d) given\", len1, len2);\n",
      "        return 0.0;\n",
      "    }\n",
      "    return dot(len1, vec1, vec2);\n",
      "}\n",
      "%}"
     ],
     "language": "python",
     "metadata": {},
     "outputs": []
    },
    {
     "cell_type": "markdown",
     "metadata": {},
     "source": [
      "### Setup file (setup.py)\n",
      "\n",
      "This is the\n",
      "[setup.py](http://ezwidgets.googlecode.com/svn/trunk/numpy/setup_dot.py)\n",
      "file:"
     ]
    },
    {
     "cell_type": "code",
     "collapsed": false,
     "input": [
      "#! /usr/bin/env python\n",
      "\n",
      "# System imports\n",
      "from distutils.core import *\n",
      "from distutils      import sysconfig\n",
      "\n",
      "# Third-party modules - we depend on numpy for everything\n",
      "import numpy\n",
      "\n",
      "# Obtain the numpy include directory.  This logic works across numpy versions.\n",
      "try:\n",
      "    numpy_include = numpy.get_include()\n",
      "except AttributeError:\n",
      "    numpy_include = numpy.get_numpy_include()\n",
      "\n",
      "# dot extension module\n",
      "_dot = Extension(\"_dot\",\n",
      "                   [\"dot.i\",\"dot.c\"],\n",
      "                   include_dirs = [numpy_include],\n",
      "                   )\n",
      "\n",
      "# dot setup\n",
      "setup(  name        = \"Dot product\",\n",
      "        description = \"Function that performs a dot product (numpy.i: a SWIG Interface File for NumPy)\",\n",
      "        author      = \"Egor Zindy (based on the setup.py file available in the numpy tree)\",\n",
      "        version     = \"1.0\",\n",
      "        ext_modules = [_dot]\n",
      "        )"
     ],
     "language": "python",
     "metadata": {},
     "outputs": []
    },
    {
     "cell_type": "markdown",
     "metadata": {},
     "source": [
      "### Compiling the module\n",
      "\n",
      "The setup command-line is:"
     ]
    },
    {
     "cell_type": "code",
     "collapsed": false,
     "input": [
      "python setup.py build"
     ],
     "language": "python",
     "metadata": {},
     "outputs": []
    },
    {
     "cell_type": "markdown",
     "metadata": {},
     "source": [
      "or"
     ]
    },
    {
     "cell_type": "code",
     "collapsed": false,
     "input": [
      "python setup.py build --compiler=mingw32"
     ],
     "language": "python",
     "metadata": {},
     "outputs": []
    },
    {
     "cell_type": "markdown",
     "metadata": {},
     "source": [
      "depending on your environment.\n",
      "\n",
      "### Testing\n",
      "\n",
      "If everything goes according to plan, there should be a \\`\\_dot.pyd\\`\n",
      "file available in the \\`build\\\\lib.XXX\\` directory. You will need to\n",
      "copy the file in the directory where the \\`dot.py\\` file is (generated\n",
      "by swig), in which case, the following will work (in python):"
     ]
    },
    {
     "cell_type": "code",
     "collapsed": false,
     "input": [
      ">>> import dot\n",
      ">>> dot.dot([1,2,3],[1,2,3])\n",
      "14.0"
     ],
     "language": "python",
     "metadata": {},
     "outputs": []
    }
   ],
   "metadata": {}
  }
 ]
}